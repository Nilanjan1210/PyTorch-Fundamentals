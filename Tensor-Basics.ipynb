{
  "nbformat": 4,
  "nbformat_minor": 0,
  "metadata": {
    "colab": {
      "provenance": [],
      "gpuType": "T4",
      "include_colab_link": true
    },
    "kernelspec": {
      "name": "python3",
      "display_name": "Python 3"
    },
    "language_info": {
      "name": "python"
    },
    "accelerator": "GPU"
  },
  "cells": [
    {
      "cell_type": "markdown",
      "metadata": {
        "id": "view-in-github",
        "colab_type": "text"
      },
      "source": [
        "<a href=\"https://colab.research.google.com/github/Nilanjan1210/PyTorch-Fundamentals/blob/main/Tensor-Basics.ipynb\" target=\"_parent\"><img src=\"https://colab.research.google.com/assets/colab-badge.svg\" alt=\"Open In Colab\"/></a>"
      ]
    },
    {
      "cell_type": "markdown",
      "source": [
        "PyTorch is a Python-based scientific computing package serving two broad purposes:\n",
        "\n",
        "* A replacement for NumPy to use the power of GPUs and other accelerators.\n",
        "\n",
        "* An automatic differentiation library that is useful to implement neural networks."
      ],
      "metadata": {
        "id": "Ck2fPICb_WQz"
      }
    },
    {
      "cell_type": "markdown",
      "source": [
        "## **What are Tensors?**\n",
        "\n",
        "Tensor holds a multi-dimensional array of elements of a single data type which is very similar with numpy’s ndarray. When the dimension is zero, it can be called a scalar. When the dimension is 1, it can be called a vector. When the dimension is 2, it can be called a matrix.\n",
        "\n",
        "- 0-dimensional tensor: A single number (scalar).\n",
        "- 1-dimensional tensor: A list of numbers (vector).\n",
        "- 2-dimensional tensor: A table of numbers (matrix).\n",
        "\n",
        "When the dimension is greater than 2, it is usually called a tensor."
      ],
      "metadata": {
        "id": "kw37fysb8Zli"
      }
    },
    {
      "cell_type": "code",
      "source": [
        "import torch\n",
        "import numpy as np\n",
        "# Ignore warnings\n",
        "import warnings\n",
        "warnings.filterwarnings('ignore')\n",
        "\n",
        "# Print versions\n",
        "print(\"torch version:\", torch.__version__)\n",
        "print(\"numpy version:\", np.__version__)"
      ],
      "metadata": {
        "colab": {
          "base_uri": "https://localhost:8080/"
        },
        "id": "h9keNf1681AH",
        "outputId": "0ce5f5fa-1da8-41a6-b6a1-427923c6ed2f"
      },
      "execution_count": 1,
      "outputs": [
        {
          "output_type": "stream",
          "name": "stdout",
          "text": [
            "torch version: 2.6.0+cu124\n",
            "numpy version: 2.0.2\n"
          ]
        }
      ]
    },
    {
      "cell_type": "code",
      "source": [
        "# Creating a tensor\n",
        "# using empty method\n",
        "x = torch.empty(3)\n",
        "print(x)"
      ],
      "metadata": {
        "colab": {
          "base_uri": "https://localhost:8080/"
        },
        "id": "dnIiOSaT4QFO",
        "outputId": "35417977-b7dc-4e1c-fc44-9915a2f145ad"
      },
      "execution_count": 2,
      "outputs": [
        {
          "output_type": "stream",
          "name": "stdout",
          "text": [
            "tensor([3.7295e-14, 4.4103e-41, 3.7295e-14])\n"
          ]
        }
      ]
    },
    {
      "cell_type": "code",
      "source": [
        "type(x)"
      ],
      "metadata": {
        "colab": {
          "base_uri": "https://localhost:8080/"
        },
        "id": "j68lranB3T_2",
        "outputId": "5b5f7e82-7a4c-411a-9ced-907e1f5065aa"
      },
      "execution_count": 3,
      "outputs": [
        {
          "output_type": "execute_result",
          "data": {
            "text/plain": [
              "torch.Tensor"
            ]
          },
          "metadata": {},
          "execution_count": 3
        }
      ]
    },
    {
      "cell_type": "code",
      "source": [
        "x.dtype"
      ],
      "metadata": {
        "colab": {
          "base_uri": "https://localhost:8080/"
        },
        "id": "HS_7C-Pt4dJ9",
        "outputId": "1a0d05f9-259e-4264-8fdf-00f8cec0ddb4"
      },
      "execution_count": 4,
      "outputs": [
        {
          "output_type": "execute_result",
          "data": {
            "text/plain": [
              "torch.float32"
            ]
          },
          "metadata": {},
          "execution_count": 4
        }
      ]
    },
    {
      "cell_type": "markdown",
      "source": [
        "## Tensor Initialization"
      ],
      "metadata": {
        "id": "J1CfnjyI89tk"
      }
    },
    {
      "cell_type": "code",
      "source": [
        "# Directly from data\n",
        "data = [[7,8],[3,5]]\n",
        "x = torch.tensor(data)\n",
        "print(x)"
      ],
      "metadata": {
        "colab": {
          "base_uri": "https://localhost:8080/"
        },
        "id": "eMAJBEUn_w_t",
        "outputId": "c8d22566-bc67-4b42-be86-327941055a8a"
      },
      "execution_count": 21,
      "outputs": [
        {
          "output_type": "stream",
          "name": "stdout",
          "text": [
            "tensor([[7, 8],\n",
            "        [3, 5]])\n"
          ]
        }
      ]
    },
    {
      "cell_type": "code",
      "source": [
        "# usign zeros\n",
        "x = torch.zeros(2,3)\n",
        "print(x)"
      ],
      "metadata": {
        "colab": {
          "base_uri": "https://localhost:8080/"
        },
        "id": "JsB_Zn764f2S",
        "outputId": "7806b953-9990-48c1-81fb-59785a686cd5"
      },
      "execution_count": 5,
      "outputs": [
        {
          "output_type": "stream",
          "name": "stdout",
          "text": [
            "tensor([[0., 0., 0.],\n",
            "        [0., 0., 0.]])\n"
          ]
        }
      ]
    },
    {
      "cell_type": "code",
      "source": [
        "# using ones\n",
        "x = torch.ones(2,3)\n",
        "print(x)"
      ],
      "metadata": {
        "colab": {
          "base_uri": "https://localhost:8080/"
        },
        "id": "pz8_Ey-d4j5-",
        "outputId": "227dc763-9c74-43fe-b133-8bdbc90afbbf"
      },
      "execution_count": 6,
      "outputs": [
        {
          "output_type": "stream",
          "name": "stdout",
          "text": [
            "tensor([[1., 1., 1.],\n",
            "        [1., 1., 1.]])\n"
          ]
        }
      ]
    },
    {
      "cell_type": "code",
      "source": [
        "# using rand\n",
        "x = torch.rand(2,3)\n",
        "print(x)"
      ],
      "metadata": {
        "colab": {
          "base_uri": "https://localhost:8080/"
        },
        "id": "rhFEGxbk4mc_",
        "outputId": "ed092d76-a84f-4571-acb9-e89ba6144b03"
      },
      "execution_count": 7,
      "outputs": [
        {
          "output_type": "stream",
          "name": "stdout",
          "text": [
            "tensor([[0.5829, 0.9369, 0.9162],\n",
            "        [0.9681, 0.2335, 0.8067]])\n"
          ]
        }
      ]
    },
    {
      "cell_type": "code",
      "source": [
        "# to regenarate same random number to fixed seed\n",
        "torch.manual_seed(42)\n",
        "x = torch.rand(2,3)\n",
        "print(x)"
      ],
      "metadata": {
        "colab": {
          "base_uri": "https://localhost:8080/"
        },
        "id": "mg8AtACe4qQX",
        "outputId": "5f03e70e-840d-49e5-eb39-8c86fb3ed755"
      },
      "execution_count": 8,
      "outputs": [
        {
          "output_type": "stream",
          "name": "stdout",
          "text": [
            "tensor([[0.8823, 0.9150, 0.3829],\n",
            "        [0.9593, 0.3904, 0.6009]])\n"
          ]
        }
      ]
    },
    {
      "cell_type": "code",
      "source": [
        "# using tesor fuction\n",
        "torch.tensor([[1,2,3],[4,5,6]])"
      ],
      "metadata": {
        "colab": {
          "base_uri": "https://localhost:8080/"
        },
        "id": "6_rrxcsN40xT",
        "outputId": "7b58c65e-217c-4889-a537-1c76b4679233"
      },
      "execution_count": 9,
      "outputs": [
        {
          "output_type": "execute_result",
          "data": {
            "text/plain": [
              "tensor([[1, 2, 3],\n",
              "        [4, 5, 6]])"
            ]
          },
          "metadata": {},
          "execution_count": 9
        }
      ]
    },
    {
      "cell_type": "code",
      "source": [
        "# using arrange fucntion\n",
        "torch.arange(0,18,2).reshape(3,3)"
      ],
      "metadata": {
        "colab": {
          "base_uri": "https://localhost:8080/"
        },
        "id": "IW7uVs045BDL",
        "outputId": "d83760f2-6e2a-43f1-9b09-a72ca59d8860"
      },
      "execution_count": 10,
      "outputs": [
        {
          "output_type": "execute_result",
          "data": {
            "text/plain": [
              "tensor([[ 0,  2,  4],\n",
              "        [ 6,  8, 10],\n",
              "        [12, 14, 16]])"
            ]
          },
          "metadata": {},
          "execution_count": 10
        }
      ]
    },
    {
      "cell_type": "code",
      "source": [
        "# using linspace\n",
        "torch.linspace(0,18,12).reshape(3,4)"
      ],
      "metadata": {
        "colab": {
          "base_uri": "https://localhost:8080/"
        },
        "id": "QhX60QXr5JKI",
        "outputId": "bd36066d-007a-4ee0-92ab-6bd235e07d1b"
      },
      "execution_count": 11,
      "outputs": [
        {
          "output_type": "execute_result",
          "data": {
            "text/plain": [
              "tensor([[ 0.0000,  1.6364,  3.2727,  4.9091],\n",
              "        [ 6.5455,  8.1818,  9.8182, 11.4545],\n",
              "        [13.0909, 14.7273, 16.3636, 18.0000]])"
            ]
          },
          "metadata": {},
          "execution_count": 11
        }
      ]
    },
    {
      "cell_type": "code",
      "source": [
        "# usign eye\n",
        "torch.eye(5)"
      ],
      "metadata": {
        "colab": {
          "base_uri": "https://localhost:8080/"
        },
        "id": "osUEPBEC5P7j",
        "outputId": "391956c9-4d31-4577-8f4d-b7675deb0f76"
      },
      "execution_count": 12,
      "outputs": [
        {
          "output_type": "execute_result",
          "data": {
            "text/plain": [
              "tensor([[1., 0., 0., 0., 0.],\n",
              "        [0., 1., 0., 0., 0.],\n",
              "        [0., 0., 1., 0., 0.],\n",
              "        [0., 0., 0., 1., 0.],\n",
              "        [0., 0., 0., 0., 1.]])"
            ]
          },
          "metadata": {},
          "execution_count": 12
        }
      ]
    },
    {
      "cell_type": "code",
      "source": [
        "# using full\n",
        "torch.full((2,3),4)"
      ],
      "metadata": {
        "colab": {
          "base_uri": "https://localhost:8080/"
        },
        "id": "nNmRfjfz5Z59",
        "outputId": "be8b01f7-c5d0-4d70-883f-e9a47055839a"
      },
      "execution_count": 13,
      "outputs": [
        {
          "output_type": "execute_result",
          "data": {
            "text/plain": [
              "tensor([[4, 4, 4],\n",
              "        [4, 4, 4]])"
            ]
          },
          "metadata": {},
          "execution_count": 13
        }
      ]
    },
    {
      "cell_type": "code",
      "source": [
        "# to check tensor shape\n",
        "z = torch.rand(2,3)\n",
        "z.shape"
      ],
      "metadata": {
        "colab": {
          "base_uri": "https://localhost:8080/"
        },
        "id": "la_fBlZO5dB0",
        "outputId": "78e3f602-629b-4b2f-940e-36a364274765"
      },
      "execution_count": 14,
      "outputs": [
        {
          "output_type": "execute_result",
          "data": {
            "text/plain": [
              "torch.Size([2, 3])"
            ]
          },
          "metadata": {},
          "execution_count": 14
        }
      ]
    },
    {
      "cell_type": "code",
      "source": [
        "# Usign empty fucntion to create a same shape tansor\n",
        "print(torch.empty_like(z))\n",
        "print(torch.zeros_like(z))\n",
        "print(torch.ones_like(z))"
      ],
      "metadata": {
        "colab": {
          "base_uri": "https://localhost:8080/"
        },
        "id": "LvHB04a-5kkk",
        "outputId": "fdb0549f-0eae-4f51-d615-c8f2a7b6cccf"
      },
      "execution_count": 15,
      "outputs": [
        {
          "output_type": "stream",
          "name": "stdout",
          "text": [
            "tensor([[7.2708e+31, 5.0778e+31, 3.2608e-12],\n",
            "        [1.7728e+28, 7.0367e+22, 2.1715e-18]])\n",
            "tensor([[0., 0., 0.],\n",
            "        [0., 0., 0.]])\n",
            "tensor([[1., 1., 1.],\n",
            "        [1., 1., 1.]])\n"
          ]
        }
      ]
    },
    {
      "cell_type": "code",
      "source": [
        "# Create a tensor with values drawn from a normal distribution\n",
        "x = torch.empty(1, 5).normal_(mean=0, std=1)\n",
        "print(\"Normal Distributed Tensor:\\n\", x)"
      ],
      "metadata": {
        "colab": {
          "base_uri": "https://localhost:8080/"
        },
        "id": "HOWCfxyR9p9V",
        "outputId": "236a8d79-9e39-4450-add2-5719ad5d4ea0"
      },
      "execution_count": 17,
      "outputs": [
        {
          "output_type": "stream",
          "name": "stdout",
          "text": [
            "Normal Distributed Tensor:\n",
            " tensor([[ 2.2082, -0.6380,  0.4617,  0.2674,  0.5349]])\n"
          ]
        }
      ]
    },
    {
      "cell_type": "code",
      "source": [
        "# Create a tensor with values drawn from a uniform distribution\n",
        "x = torch.empty(1, 5).uniform_(0, 1)\n",
        "print(\"Uniform Distributed Tensor:\\n\", x)"
      ],
      "metadata": {
        "colab": {
          "base_uri": "https://localhost:8080/"
        },
        "id": "S5gqoAMQ9p55",
        "outputId": "95dd96e3-3dc3-459d-94e2-f93ac37ea43b"
      },
      "execution_count": 18,
      "outputs": [
        {
          "output_type": "stream",
          "name": "stdout",
          "text": [
            "Uniform Distributed Tensor:\n",
            " tensor([[0.1053, 0.2695, 0.3588, 0.1994, 0.5472]])\n"
          ]
        }
      ]
    },
    {
      "cell_type": "code",
      "source": [
        "# Create a diagonal tensor from a tensor of ones\n",
        "x = torch.diag(torch.ones(4))\n",
        "print(\"Diagonal Tensor:\\n\", x)"
      ],
      "metadata": {
        "colab": {
          "base_uri": "https://localhost:8080/"
        },
        "id": "l17fIP7Z9wwo",
        "outputId": "f482700e-ef98-45e9-cc29-e5ffdf1ee190"
      },
      "execution_count": 19,
      "outputs": [
        {
          "output_type": "stream",
          "name": "stdout",
          "text": [
            "Diagonal Tensor:\n",
            " tensor([[1., 0., 0., 0.],\n",
            "        [0., 1., 0., 0.],\n",
            "        [0., 0., 1., 0.],\n",
            "        [0., 0., 0., 1.]])\n"
          ]
        }
      ]
    },
    {
      "cell_type": "markdown",
      "source": [
        "## Tensor Type Conversion"
      ],
      "metadata": {
        "id": "lzw-UL9d9XdD"
      }
    },
    {
      "cell_type": "code",
      "source": [
        "# when we create tensor to assign data type\n",
        "x = torch.tensor([1,2,3,34], dtype=torch.float)\n",
        "print(x)"
      ],
      "metadata": {
        "colab": {
          "base_uri": "https://localhost:8080/"
        },
        "id": "gwcIh-Yy5xSF",
        "outputId": "f9b00070-1d03-4071-9ea8-7c43ad2bcf90"
      },
      "execution_count": 16,
      "outputs": [
        {
          "output_type": "stream",
          "name": "stdout",
          "text": [
            "tensor([ 1.,  2.,  3., 34.])\n"
          ]
        }
      ]
    },
    {
      "cell_type": "code",
      "source": [
        "x.dtype"
      ],
      "metadata": {
        "colab": {
          "base_uri": "https://localhost:8080/"
        },
        "id": "oLKxFyi_6Kb3",
        "outputId": "41507e12-2459-43f6-e39f-305f074a6677"
      },
      "execution_count": null,
      "outputs": [
        {
          "output_type": "execute_result",
          "data": {
            "text/plain": [
              "torch.float32"
            ]
          },
          "metadata": {},
          "execution_count": 46
        }
      ]
    },
    {
      "cell_type": "code",
      "source": [
        "x = torch.tensor([1,2,3,34], dtype=torch.int64)\n",
        "print(x)"
      ],
      "metadata": {
        "colab": {
          "base_uri": "https://localhost:8080/"
        },
        "id": "sJ_T-3ov6O8w",
        "outputId": "0540d3c8-e41e-4c82-aa53-d5ce99fa6ce9"
      },
      "execution_count": null,
      "outputs": [
        {
          "output_type": "stream",
          "name": "stdout",
          "text": [
            "tensor([ 1,  2,  3, 34])\n"
          ]
        }
      ]
    },
    {
      "cell_type": "code",
      "source": [
        "x.dtype"
      ],
      "metadata": {
        "colab": {
          "base_uri": "https://localhost:8080/"
        },
        "id": "q2DZoCge6Tw8",
        "outputId": "17241312-207f-4b66-ae50-397d06e3e46b"
      },
      "execution_count": null,
      "outputs": [
        {
          "output_type": "execute_result",
          "data": {
            "text/plain": [
              "torch.int64"
            ]
          },
          "metadata": {},
          "execution_count": 48
        }
      ]
    },
    {
      "cell_type": "code",
      "source": [
        "# Create a tensor and convert its type\n",
        "tensor = torch.arange(4)\n",
        "print(\"Boolean Tensor:\", tensor.bool())   # Convert to boolean\n",
        "print(\"Short Tensor (int16):\", tensor.short())   # Convert to int16\n",
        "print(\"Long Tensor (int64):\", tensor.long())   # Convert to int64\n",
        "print(\"Half Tensor (float16):\", tensor.half())   # Convert to float16\n",
        "print(\"Float Tensor (float32):\", tensor.float())   # Convert to float32\n",
        "print(\"Double Tensor (float64):\", tensor.double())   # Convert to float64"
      ],
      "metadata": {
        "colab": {
          "base_uri": "https://localhost:8080/"
        },
        "id": "hoAVidhs95d9",
        "outputId": "c248c673-8796-4222-a056-f8ad6982b810"
      },
      "execution_count": 20,
      "outputs": [
        {
          "output_type": "stream",
          "name": "stdout",
          "text": [
            "Boolean Tensor: tensor([False,  True,  True,  True])\n",
            "Short Tensor (int16): tensor([0, 1, 2, 3], dtype=torch.int16)\n",
            "Long Tensor (int64): tensor([0, 1, 2, 3])\n",
            "Half Tensor (float16): tensor([0., 1., 2., 3.], dtype=torch.float16)\n",
            "Float Tensor (float32): tensor([0., 1., 2., 3.])\n",
            "Double Tensor (float64): tensor([0., 1., 2., 3.], dtype=torch.float64)\n"
          ]
        }
      ]
    },
    {
      "cell_type": "markdown",
      "source": [
        "## Tensor Mathematics and Comparison Operations"
      ],
      "metadata": {
        "id": "HCa_sTkt-Fp3"
      }
    },
    {
      "cell_type": "code",
      "source": [
        "# Mathematical Operation\n",
        "x = torch.tensor(range(1,10), dtype=float).reshape(3,3)\n",
        "y = torch.tensor(range(9,0,-1), dtype=float).reshape(3,3)\n",
        "print(x)\n",
        "print(y)\n",
        "print(x+2)\n",
        "print(x-2)\n",
        "print(x*2)\n",
        "print(x/2)\n",
        "print(x%2)\n",
        "print(x+y)\n",
        "print(x-y)\n",
        "print(x*y)\n",
        "print(x/y)\n",
        "print(x%y)\n",
        "\n"
      ],
      "metadata": {
        "colab": {
          "base_uri": "https://localhost:8080/"
        },
        "id": "P6ukJunS6VmF",
        "outputId": "4980ffd8-97a3-4190-d15c-5826912e8faf"
      },
      "execution_count": null,
      "outputs": [
        {
          "output_type": "stream",
          "name": "stdout",
          "text": [
            "tensor([[1., 2., 3.],\n",
            "        [4., 5., 6.],\n",
            "        [7., 8., 9.]], dtype=torch.float64)\n",
            "tensor([[9., 8., 7.],\n",
            "        [6., 5., 4.],\n",
            "        [3., 2., 1.]], dtype=torch.float64)\n",
            "tensor([[ 3.,  4.,  5.],\n",
            "        [ 6.,  7.,  8.],\n",
            "        [ 9., 10., 11.]], dtype=torch.float64)\n",
            "tensor([[-1.,  0.,  1.],\n",
            "        [ 2.,  3.,  4.],\n",
            "        [ 5.,  6.,  7.]], dtype=torch.float64)\n",
            "tensor([[ 2.,  4.,  6.],\n",
            "        [ 8., 10., 12.],\n",
            "        [14., 16., 18.]], dtype=torch.float64)\n",
            "tensor([[0.5000, 1.0000, 1.5000],\n",
            "        [2.0000, 2.5000, 3.0000],\n",
            "        [3.5000, 4.0000, 4.5000]], dtype=torch.float64)\n",
            "tensor([[1., 0., 1.],\n",
            "        [0., 1., 0.],\n",
            "        [1., 0., 1.]], dtype=torch.float64)\n",
            "tensor([[10., 10., 10.],\n",
            "        [10., 10., 10.],\n",
            "        [10., 10., 10.]], dtype=torch.float64)\n",
            "tensor([[-8., -6., -4.],\n",
            "        [-2.,  0.,  2.],\n",
            "        [ 4.,  6.,  8.]], dtype=torch.float64)\n",
            "tensor([[ 9., 16., 21.],\n",
            "        [24., 25., 24.],\n",
            "        [21., 16.,  9.]], dtype=torch.float64)\n",
            "tensor([[0.1111, 0.2500, 0.4286],\n",
            "        [0.6667, 1.0000, 1.5000],\n",
            "        [2.3333, 4.0000, 9.0000]], dtype=torch.float64)\n",
            "tensor([[1., 2., 3.],\n",
            "        [4., 0., 2.],\n",
            "        [1., 0., 0.]], dtype=torch.float64)\n"
          ]
        }
      ]
    },
    {
      "cell_type": "code",
      "source": [
        "c = torch.tensor([1,-2,3,-4]  ,dtype  = float)\n",
        "print(torch.abs(c))"
      ],
      "metadata": {
        "colab": {
          "base_uri": "https://localhost:8080/"
        },
        "id": "LYoBaIDD6gxc",
        "outputId": "a46b2f3e-3ca9-4bd7-de79-3366698ca603"
      },
      "execution_count": null,
      "outputs": [
        {
          "output_type": "stream",
          "name": "stdout",
          "text": [
            "tensor([1., 2., 3., 4.], dtype=torch.float64)\n"
          ]
        }
      ]
    },
    {
      "cell_type": "code",
      "source": [
        "torch.neg(c)"
      ],
      "metadata": {
        "colab": {
          "base_uri": "https://localhost:8080/"
        },
        "id": "wt-IEqbj7zjm",
        "outputId": "2813a933-8ff3-4423-975b-c534f0205281"
      },
      "execution_count": null,
      "outputs": [
        {
          "output_type": "execute_result",
          "data": {
            "text/plain": [
              "tensor([-1.,  2., -3.,  4.], dtype=torch.float64)"
            ]
          },
          "metadata": {},
          "execution_count": 51
        }
      ]
    },
    {
      "cell_type": "code",
      "source": [
        "torch.manual_seed(123)\n",
        "d  = torch.rand(3,4)\n",
        "print(d )\n",
        "print(torch.round(d))\n",
        "print(torch.ceil(d))\n",
        "print(torch.floor(d))\n",
        "print(torch.trunc(d))\n",
        "print(torch.frac(d)) # fractional part is the remainder after dividing the number by 1."
      ],
      "metadata": {
        "colab": {
          "base_uri": "https://localhost:8080/"
        },
        "id": "NS6ZNrVn77vl",
        "outputId": "0a1bdc7c-3645-46ba-8bd9-9ec9ae7dafb1"
      },
      "execution_count": null,
      "outputs": [
        {
          "output_type": "stream",
          "name": "stdout",
          "text": [
            "tensor([[0.2961, 0.5166, 0.2517, 0.6886],\n",
            "        [0.0740, 0.8665, 0.1366, 0.1025],\n",
            "        [0.1841, 0.7264, 0.3153, 0.6871]])\n",
            "tensor([[0., 1., 0., 1.],\n",
            "        [0., 1., 0., 0.],\n",
            "        [0., 1., 0., 1.]])\n",
            "tensor([[1., 1., 1., 1.],\n",
            "        [1., 1., 1., 1.],\n",
            "        [1., 1., 1., 1.]])\n",
            "tensor([[0., 0., 0., 0.],\n",
            "        [0., 0., 0., 0.],\n",
            "        [0., 0., 0., 0.]])\n",
            "tensor([[0., 0., 0., 0.],\n",
            "        [0., 0., 0., 0.],\n",
            "        [0., 0., 0., 0.]])\n",
            "tensor([[0.2961, 0.5166, 0.2517, 0.6886],\n",
            "        [0.0740, 0.8665, 0.1366, 0.1025],\n",
            "        [0.1841, 0.7264, 0.3153, 0.6871]])\n"
          ]
        }
      ]
    },
    {
      "cell_type": "code",
      "source": [
        "torch.manual_seed(12)\n",
        "d  = torch.rand(3,4)\n",
        "print(d )\n",
        "print(d.max())\n",
        "print(d.max(dim=0)) # sum of along column\n",
        "print(d.max(dim=1)) # sum of along row\n",
        "print(d.min())\n",
        "print(d.min(dim=0))\n",
        "print(d.min(dim=1))\n",
        "print(d.mean)\n",
        "print(d.mean(dim=0))\n",
        "print(d.mean(dim=1))\n",
        "print(d.sum())\n",
        "print(d.sum(dim=0))\n",
        "print(d.sum(dim=1))\n",
        "print(d.std())\n",
        "print(d.std(dim=0))\n",
        "print(d.std(dim=1))"
      ],
      "metadata": {
        "colab": {
          "base_uri": "https://localhost:8080/"
        },
        "id": "VusIAKZi77sC",
        "outputId": "dca50385-3434-4cfa-dd3e-9fe143a184f1"
      },
      "execution_count": null,
      "outputs": [
        {
          "output_type": "stream",
          "name": "stdout",
          "text": [
            "tensor([[0.4657, 0.2328, 0.4527, 0.5871],\n",
            "        [0.4086, 0.1272, 0.6373, 0.2421],\n",
            "        [0.7312, 0.7224, 0.1992, 0.6948]])\n",
            "tensor(0.7312)\n",
            "torch.return_types.max(\n",
            "values=tensor([0.7312, 0.7224, 0.6373, 0.6948]),\n",
            "indices=tensor([2, 2, 1, 2]))\n",
            "torch.return_types.max(\n",
            "values=tensor([0.5871, 0.6373, 0.7312]),\n",
            "indices=tensor([3, 2, 0]))\n",
            "tensor(0.1272)\n",
            "torch.return_types.min(\n",
            "values=tensor([0.4086, 0.1272, 0.1992, 0.2421]),\n",
            "indices=tensor([1, 1, 2, 1]))\n",
            "torch.return_types.min(\n",
            "values=tensor([0.2328, 0.1272, 0.1992]),\n",
            "indices=tensor([1, 1, 2]))\n",
            "<built-in method mean of Tensor object at 0x7981c6727e90>\n",
            "tensor([0.5352, 0.3608, 0.4297, 0.5080])\n",
            "tensor([0.4346, 0.3538, 0.5869])\n",
            "tensor(5.5011)\n",
            "tensor([1.6055, 1.0824, 1.2892, 1.5240])\n",
            "tensor([1.7383, 1.4152, 2.3477])\n",
            "tensor(0.2186)\n",
            "tensor([0.1721, 0.3176, 0.2199, 0.2365])\n",
            "tensor([0.1475, 0.2215, 0.2589])\n"
          ]
        }
      ]
    },
    {
      "cell_type": "code",
      "source": [
        "torch.manual_seed(101)\n",
        "d  = torch.rand(3,4)\n",
        "print(d )\n",
        "# Clamp method\n",
        "print(torch.clamp(d,min=0.2,max=0.8))"
      ],
      "metadata": {
        "colab": {
          "base_uri": "https://localhost:8080/"
        },
        "id": "LVsONrBp77pb",
        "outputId": "75e52508-7234-4b71-fa11-ceb99e68d6bf"
      },
      "execution_count": null,
      "outputs": [
        {
          "output_type": "stream",
          "name": "stdout",
          "text": [
            "tensor([[0.1980, 0.4503, 0.0909, 0.8872],\n",
            "        [0.2894, 0.0186, 0.9095, 0.3406],\n",
            "        [0.4309, 0.7324, 0.4776, 0.0716]])\n",
            "tensor([[0.2000, 0.4503, 0.2000, 0.8000],\n",
            "        [0.2894, 0.2000, 0.8000, 0.3406],\n",
            "        [0.4309, 0.7324, 0.4776, 0.2000]])\n"
          ]
        }
      ]
    },
    {
      "cell_type": "code",
      "source": [
        "print(torch.median(d))\n",
        "print(torch.median(d,dim=0) )\n",
        "print(torch.median(d,dim=1))"
      ],
      "metadata": {
        "colab": {
          "base_uri": "https://localhost:8080/"
        },
        "id": "9JDe_Eqc77f9",
        "outputId": "f9c245b6-c23e-4c98-fd44-7521982649df"
      },
      "execution_count": null,
      "outputs": [
        {
          "output_type": "stream",
          "name": "stdout",
          "text": [
            "tensor(0.3406)\n",
            "torch.return_types.median(\n",
            "values=tensor([0.2894, 0.4503, 0.4776, 0.3406]),\n",
            "indices=tensor([1, 0, 2, 1]))\n",
            "torch.return_types.median(\n",
            "values=tensor([0.1980, 0.2894, 0.4309]),\n",
            "indices=tensor([0, 0, 0]))\n"
          ]
        }
      ]
    },
    {
      "cell_type": "code",
      "source": [
        "print(torch.prod(d))\n",
        "print(torch.prod(d,dim=0))\n",
        "print(torch.prod(d,dim=1))"
      ],
      "metadata": {
        "colab": {
          "base_uri": "https://localhost:8080/"
        },
        "id": "Bxle7DaD77cc",
        "outputId": "20be8562-f8e1-4bd7-832b-e0fce7102019"
      },
      "execution_count": null,
      "outputs": [
        {
          "output_type": "stream",
          "name": "stdout",
          "text": [
            "tensor(1.2940e-07)\n",
            "tensor([0.0247, 0.0061, 0.0395, 0.0216])\n",
            "tensor([0.0072, 0.0017, 0.0108])\n"
          ]
        }
      ]
    },
    {
      "cell_type": "code",
      "source": [
        "#  Stander deviation\n",
        "print(torch.std(d))\n",
        "print(torch.var(d))\n",
        "print(d)\n",
        "print(torch.argmax(d))\n",
        "print(torch.argmin(d))"
      ],
      "metadata": {
        "colab": {
          "base_uri": "https://localhost:8080/"
        },
        "id": "tFRxcSCs77Zz",
        "outputId": "6984719a-d10f-43b5-8005-862674167197"
      },
      "execution_count": null,
      "outputs": [
        {
          "output_type": "stream",
          "name": "stdout",
          "text": [
            "tensor(0.3047)\n",
            "tensor(0.0929)\n",
            "tensor([[0.1980, 0.4503, 0.0909, 0.8872],\n",
            "        [0.2894, 0.0186, 0.9095, 0.3406],\n",
            "        [0.4309, 0.7324, 0.4776, 0.0716]])\n",
            "tensor(6)\n",
            "tensor(5)\n"
          ]
        }
      ]
    },
    {
      "cell_type": "code",
      "source": [
        "# Matrix operation or 2D tensor operation\n",
        "f = torch.randint(size=(2,3), low = 0, high = 20)\n",
        "g = torch.randint(size=(3,2), low = 0, high = 20)\n",
        "print(f)\n",
        "print(g)\n",
        "# matrix miltiplictaion\n",
        "print(torch.mm(f,g))\n",
        "print(torch.matmul(f,g))\n",
        "print(torch.transpose(f,0,1))"
      ],
      "metadata": {
        "colab": {
          "base_uri": "https://localhost:8080/"
        },
        "id": "eaoE9zSN77XL",
        "outputId": "9ccfd644-a866-487d-ca77-7bfb90636c9b"
      },
      "execution_count": null,
      "outputs": [
        {
          "output_type": "stream",
          "name": "stdout",
          "text": [
            "tensor([[ 0, 15, 12],\n",
            "        [17, 12,  0]])\n",
            "tensor([[ 8, 18],\n",
            "        [ 1, 16],\n",
            "        [ 9, 12]])\n",
            "tensor([[123, 384],\n",
            "        [148, 498]])\n",
            "tensor([[123, 384],\n",
            "        [148, 498]])\n",
            "tensor([[ 0, 17],\n",
            "        [15, 12],\n",
            "        [12,  0]])\n"
          ]
        }
      ]
    },
    {
      "cell_type": "code",
      "source": [
        "h = torch.randint(size=(3,3), low = 0, high = 20,\n",
        "dtype = float)\n",
        "print(h)\n",
        "print(torch.det(h))"
      ],
      "metadata": {
        "colab": {
          "base_uri": "https://localhost:8080/"
        },
        "id": "mrZO-_oc77Ur",
        "outputId": "906f8117-ff87-4d9e-9f19-bcfcecd27883"
      },
      "execution_count": null,
      "outputs": [
        {
          "output_type": "stream",
          "name": "stdout",
          "text": [
            "tensor([[17., 15., 11.],\n",
            "        [ 2., 16., 11.],\n",
            "        [ 9.,  3.,  7.]], dtype=torch.float64)\n",
            "tensor(1100.0000, dtype=torch.float64)\n"
          ]
        }
      ]
    },
    {
      "cell_type": "markdown",
      "source": [
        "### Implace operator"
      ],
      "metadata": {
        "id": "3qDu0iaaBBBR"
      }
    },
    {
      "cell_type": "code",
      "source": [
        "# Implace operator\n",
        "# we want to change and store in same variable the use methosname_ like \"add_\" method\n",
        "m = torch.randint(size=(2,3), low = 0, high = 20)\n",
        "print(m)\n",
        "m.add_(10)\n",
        "print(m)"
      ],
      "metadata": {
        "colab": {
          "base_uri": "https://localhost:8080/"
        },
        "id": "lhjxVMKy77Ro",
        "outputId": "d7b2cef3-dfda-4352-fcdc-e1d7e4461139"
      },
      "execution_count": null,
      "outputs": [
        {
          "output_type": "stream",
          "name": "stdout",
          "text": [
            "tensor([[ 6, 16, 16],\n",
            "        [17, 11, 14]])\n",
            "tensor([[16, 26, 26],\n",
            "        [27, 21, 24]])\n"
          ]
        }
      ]
    },
    {
      "cell_type": "code",
      "source": [
        "# Copy a tencor\n",
        "a = torch.randint(size=(2,3), low = 0, high = 20)\n",
        "c = a\n",
        "print(id(a))\n",
        "print(id(c))\n",
        "print(a)\n",
        "b = a.clone()\n",
        "print(b)\n",
        "print(id(b))"
      ],
      "metadata": {
        "colab": {
          "base_uri": "https://localhost:8080/"
        },
        "id": "Hy4K3rOl77O_",
        "outputId": "7d5e0830-7123-4ec3-9917-87e38ef0e826"
      },
      "execution_count": null,
      "outputs": [
        {
          "output_type": "stream",
          "name": "stdout",
          "text": [
            "133598286925840\n",
            "133598286925840\n",
            "tensor([[18,  8, 11],\n",
            "        [11,  3,  8]])\n",
            "tensor([[18,  8, 11],\n",
            "        [11,  3,  8]])\n",
            "133598286925072\n"
          ]
        }
      ]
    },
    {
      "cell_type": "markdown",
      "source": [
        "## Tensor operation on GPU"
      ],
      "metadata": {
        "id": "vhvX0RqoA2YS"
      }
    },
    {
      "cell_type": "code",
      "source": [
        "# TO ENABEL YOUR GPU\n",
        "print(torch.cuda.is_available())\n",
        "device = \"cuda\" if torch.cuda.is_available() else \"cpu\"\n",
        "print(device)\n",
        "print(torch.cuda.is_available())"
      ],
      "metadata": {
        "colab": {
          "base_uri": "https://localhost:8080/"
        },
        "id": "dSQk0esa77Mt",
        "outputId": "520f575f-88ab-4fd6-d0b4-62731ca43b45"
      },
      "execution_count": null,
      "outputs": [
        {
          "output_type": "stream",
          "name": "stdout",
          "text": [
            "True\n",
            "cuda\n",
            "True\n"
          ]
        }
      ]
    },
    {
      "cell_type": "code",
      "source": [
        "# creating a new tensor in GPU\n",
        "torch.rand((2,3), device=device)"
      ],
      "metadata": {
        "colab": {
          "base_uri": "https://localhost:8080/"
        },
        "id": "hceRXqn677HP",
        "outputId": "fa4aade6-b84b-4a3c-cdf4-28057a7442be"
      },
      "execution_count": null,
      "outputs": [
        {
          "output_type": "execute_result",
          "data": {
            "text/plain": [
              "tensor([[0.6941, 0.0714, 0.3151],\n",
              "        [0.0764, 0.6683, 0.1244]], device='cuda:0')"
            ]
          },
          "metadata": {},
          "execution_count": 63
        }
      ]
    },
    {
      "cell_type": "code",
      "source": [
        "# moving an existing tensor to GPU\n",
        "a = torch.rand((2,3))\n",
        "b = a.to(device)\n",
        "print(b+5) # to perform on GPU\n"
      ],
      "metadata": {
        "colab": {
          "base_uri": "https://localhost:8080/"
        },
        "id": "dWC5_8Go77Cq",
        "outputId": "192e0300-b8c8-4ae5-a35d-b70427f9e2af"
      },
      "execution_count": null,
      "outputs": [
        {
          "output_type": "stream",
          "name": "stdout",
          "text": [
            "tensor([[5.8646, 5.2945, 5.6296],\n",
            "        [5.8637, 5.4373, 5.5454]], device='cuda:0')\n"
          ]
        }
      ]
    },
    {
      "cell_type": "code",
      "source": [
        "# To check the performance on GPU\n",
        "import  torch\n",
        "import time\n",
        "size = 10000\n",
        "#Create random matrix on CPU\n",
        "matrix_cpu1 = torch.rand((size,size))\n",
        "matrix_cpu2 = torch.rand((size,size))\n",
        "# measure time on CPU\n",
        "start_time = time.time()\n",
        "result_cpu = torch.matmul(matrix_cpu1,matrix_cpu2)\n",
        "end_time = time.time()\n",
        "print(\"Time taken on CPU:\", end_time - start_time)\n",
        "#Create random matrix on GPU\n",
        "matrix_gpu1 = matrix_cpu1.to(\"cuda\")\n",
        "matrix_gpu2 = matrix_cpu2.to(\"cuda\")\n",
        "start_time = time.time()\n",
        "# Measure time on GPU\n",
        "start_time = time.time()\n",
        "result_gpu = torch.matmul(matrix_gpu1,matrix_gpu2)\n",
        "end_time = time.time()\n",
        "print(\"Time taken on GPU:\", end_time - start_time)\n"
      ],
      "metadata": {
        "id": "WvcUe8hi77AL",
        "colab": {
          "base_uri": "https://localhost:8080/"
        },
        "outputId": "29fde311-e2be-42d5-86c5-7b2a7baa7625"
      },
      "execution_count": null,
      "outputs": [
        {
          "output_type": "stream",
          "name": "stdout",
          "text": [
            "Time taken on CPU: 34.529688596725464\n",
            "Time taken on GPU: 0.0007426738739013672\n"
          ]
        }
      ]
    },
    {
      "cell_type": "markdown",
      "source": [
        "### Reshaping Tensor"
      ],
      "metadata": {
        "id": "-SvRbBuuBJcS"
      }
    },
    {
      "cell_type": "markdown",
      "source": [
        "Learn how to reshape tensors, concatenate them, and change the order of dimensions.\n",
        "\n",
        "- **Reshape with `view()` & `reshape()`:** Change tensor shape without altering data.  \n",
        "- **Transpose & Flatten:** `.t()` transposes, `.contiguous().view(-1)` flattens.  \n",
        "- **Concatenation:** `torch.cat([x1, x2], dim=0/1)` merges tensors along rows/columns.  \n",
        "- **Flattening:** `.view(-1)` converts a tensor into a 1D array.  \n",
        "- **Batch Reshaping:** `.view(batch, -1)` keeps batch size while reshaping.  \n",
        "- **Permute Dimensions:** `.permute(0, 2, 1)` reorders dimensions efficiently.  \n",
        "- **Unsqueeze for New Dimensions:** `.unsqueeze(dim)` adds singleton dimensions.  "
      ],
      "metadata": {
        "id": "8dCE7emnBddQ"
      }
    },
    {
      "cell_type": "code",
      "source": [
        "# Reshape a tensor using view and reshape\n",
        "x = torch.arange(9)\n",
        "x_3x3 = x.view(3, 3)\n",
        "print(\"Reshaped to 3x3 using view:\\n\", x_3x3)\n",
        "x_3x3 = x.reshape(3, 3)\n",
        "print(\"Reshaped to 3x3 using reshape:\\n\", x_3x3)\n",
        "\n",
        "# Transpose and flatten the tensor\n",
        "y = x_3x3.t()\n",
        "print(\"Flattened transposed tensor:\", y.contiguous().view(9))\n",
        "\n",
        "# Concatenation example\n",
        "x1 = torch.rand(2, 5)\n",
        "x2 = torch.rand(2, 5)\n",
        "print(\"Concatenated along dimension 0 (rows):\", torch.cat([x1, x2], dim=0).shape)\n",
        "print(\"Concatenated along dimension 1 (columns):\", torch.cat([x1, x2], dim=1).shape)\n",
        "\n",
        "# Flatten the tensor using view(-1)\n",
        "z = x1.view(-1)\n",
        "print(\"Flattened tensor shape:\", z.shape)\n",
        "\n",
        "# Reshape with batch dimension\n",
        "batch = 64\n",
        "x = torch.rand(batch, 2, 5)\n",
        "print(\"Reshaped to (batch, -1):\", x.view(batch, -1).shape)\n",
        "\n",
        "# Permute dimensions\n",
        "z = x.permute(0, 2, 1)\n",
        "print(\"Permuted tensor shape:\", z.shape)\n",
        "\n",
        "# Unsqueeze examples (adding new dimensions)\n",
        "x = torch.arange(10)\n",
        "print(\"Original x:\", x)\n",
        "print(\"x unsqueezed at dim 0:\", x.unsqueeze(0).shape, x.unsqueeze(0))\n",
        "print(\"x unsqueezed at dim 1:\", x.unsqueeze(1).shape, x.unsqueeze(1))\n",
        "\n"
      ],
      "metadata": {
        "id": "AA2iJFOz769T",
        "colab": {
          "base_uri": "https://localhost:8080/"
        },
        "outputId": "e70a98d5-3c7d-4d7f-c43e-87a6addc90e6"
      },
      "execution_count": 23,
      "outputs": [
        {
          "output_type": "stream",
          "name": "stdout",
          "text": [
            "Reshaped to 3x3 using view:\n",
            " tensor([[0, 1, 2],\n",
            "        [3, 4, 5],\n",
            "        [6, 7, 8]])\n",
            "Reshaped to 3x3 using reshape:\n",
            " tensor([[0, 1, 2],\n",
            "        [3, 4, 5],\n",
            "        [6, 7, 8]])\n",
            "Flattened transposed tensor: tensor([0, 3, 6, 1, 4, 7, 2, 5, 8])\n",
            "Concatenated along dimension 0 (rows): torch.Size([4, 5])\n",
            "Concatenated along dimension 1 (columns): torch.Size([2, 10])\n",
            "Flattened tensor shape: torch.Size([10])\n",
            "Reshaped to (batch, -1): torch.Size([64, 10])\n",
            "Permuted tensor shape: torch.Size([64, 5, 2])\n",
            "Original x: tensor([0, 1, 2, 3, 4, 5, 6, 7, 8, 9])\n",
            "x unsqueezed at dim 0: torch.Size([1, 10]) tensor([[0, 1, 2, 3, 4, 5, 6, 7, 8, 9]])\n",
            "x unsqueezed at dim 1: torch.Size([10, 1]) tensor([[0],\n",
            "        [1],\n",
            "        [2],\n",
            "        [3],\n",
            "        [4],\n",
            "        [5],\n",
            "        [6],\n",
            "        [7],\n",
            "        [8],\n",
            "        [9]])\n"
          ]
        }
      ]
    },
    {
      "cell_type": "code",
      "source": [
        "# flater\n",
        "a.flatten()"
      ],
      "metadata": {
        "id": "oNJPpoKW766z",
        "colab": {
          "base_uri": "https://localhost:8080/"
        },
        "outputId": "83ccebd1-13de-40de-f66b-94fc23e733b9"
      },
      "execution_count": null,
      "outputs": [
        {
          "output_type": "execute_result",
          "data": {
            "text/plain": [
              "tensor([1., 1., 1., 1., 1., 1., 1., 1., 1., 1., 1., 1., 1., 1., 1., 1.])"
            ]
          },
          "metadata": {},
          "execution_count": 67
        }
      ]
    },
    {
      "cell_type": "code",
      "source": [
        "# permute\n",
        "b = torch.rand((2,3,4))\n",
        "print(b.permute(2,0,1))\n",
        "print(b.permute(2,0,1).shape)"
      ],
      "metadata": {
        "id": "GnIafvIG7632",
        "colab": {
          "base_uri": "https://localhost:8080/"
        },
        "outputId": "0ef8162e-a8a7-4330-f618-35b5857a37a7"
      },
      "execution_count": null,
      "outputs": [
        {
          "output_type": "stream",
          "name": "stdout",
          "text": [
            "tensor([[[0.0639, 0.9058, 0.2419],\n",
            "         [0.0158, 0.4633, 0.8586]],\n",
            "\n",
            "        [[0.7893, 0.2606, 0.9709],\n",
            "         [0.3639, 0.5336, 0.8695]],\n",
            "\n",
            "        [[0.4834, 0.7086, 0.3618],\n",
            "         [0.0393, 0.9092, 0.9263]],\n",
            "\n",
            "        [[0.0857, 0.3864, 0.3369],\n",
            "         [0.0434, 0.0149, 0.8118]]])\n",
            "torch.Size([4, 2, 3])\n"
          ]
        }
      ]
    },
    {
      "cell_type": "code",
      "source": [
        "# unsqueeze\n",
        "# Adding a dimension to given position\n",
        "a = torch.rand((225,225,3))\n",
        "print(a.unsqueeze(0).shape)\n",
        "print(a.unsqueeze(1).shape)"
      ],
      "metadata": {
        "id": "pp0a8IoC761R",
        "colab": {
          "base_uri": "https://localhost:8080/"
        },
        "outputId": "8c03c0ae-2330-4fd6-abf1-6e8153cace91"
      },
      "execution_count": null,
      "outputs": [
        {
          "output_type": "stream",
          "name": "stdout",
          "text": [
            "torch.Size([1, 225, 225, 3])\n",
            "torch.Size([225, 1, 225, 3])\n"
          ]
        }
      ]
    },
    {
      "cell_type": "code",
      "source": [
        "# squeeze\n",
        "# remove a dimesion to given position\n",
        "a = torch.rand((20,3))\n",
        "print(a.squeeze(0).shape)\n",
        "print(a.squeeze(1))\n",
        "print(a.squeeze(0).shape)"
      ],
      "metadata": {
        "id": "-xkA_GeQ76yp",
        "colab": {
          "base_uri": "https://localhost:8080/"
        },
        "outputId": "c26eb11a-2f4a-4488-fb1e-785c276a9a48"
      },
      "execution_count": null,
      "outputs": [
        {
          "output_type": "stream",
          "name": "stdout",
          "text": [
            "torch.Size([20, 3])\n",
            "tensor([[0.5599, 0.1719, 0.1984],\n",
            "        [0.3509, 0.5850, 0.9222],\n",
            "        [0.3566, 0.6472, 0.0323],\n",
            "        [0.4445, 0.4800, 0.0300],\n",
            "        [0.3730, 0.3796, 0.3041],\n",
            "        [0.2284, 0.3880, 0.5890],\n",
            "        [0.4108, 0.8536, 0.7111],\n",
            "        [0.8012, 0.8482, 0.7905],\n",
            "        [0.5342, 0.1589, 0.6913],\n",
            "        [0.6706, 0.2144, 0.9815],\n",
            "        [0.7447, 0.7802, 0.1941],\n",
            "        [0.0341, 0.1415, 0.2285],\n",
            "        [0.2059, 0.4226, 0.7126],\n",
            "        [0.2985, 0.2741, 0.6353],\n",
            "        [0.1466, 0.5899, 0.7761],\n",
            "        [0.3166, 0.0287, 0.2795],\n",
            "        [0.0282, 0.1511, 0.3497],\n",
            "        [0.0776, 0.0981, 0.6210],\n",
            "        [0.3901, 0.6550, 0.2552],\n",
            "        [0.0613, 0.9158, 0.2578]])\n",
            "torch.Size([20, 3])\n"
          ]
        }
      ]
    },
    {
      "cell_type": "code",
      "source": [
        "# Numpy to PyTorch\n",
        "import numpy as np\n",
        "a = np.array([[1,2,3],[4,5,6]])\n",
        "print(a)\n",
        "print(torch.from_numpy(a))\n",
        "print(type(a))\n",
        "print(type(torch.from_numpy(a)))"
      ],
      "metadata": {
        "id": "E5hgsiat76wO",
        "colab": {
          "base_uri": "https://localhost:8080/"
        },
        "outputId": "9c608dd2-bac5-4d6d-c25f-ebd13d9fd962"
      },
      "execution_count": null,
      "outputs": [
        {
          "output_type": "stream",
          "name": "stdout",
          "text": [
            "[[1 2 3]\n",
            " [4 5 6]]\n",
            "tensor([[1, 2, 3],\n",
            "        [4, 5, 6]])\n",
            "<class 'numpy.ndarray'>\n",
            "<class 'torch.Tensor'>\n"
          ]
        }
      ]
    },
    {
      "cell_type": "markdown",
      "source": [
        "## Bridge with NumPy\n",
        "\n",
        "Tensors on the CPU and NumPy arrays can share their underlying memory locations, and changing one will change the other."
      ],
      "metadata": {
        "id": "wJkxyoglB068"
      }
    },
    {
      "cell_type": "markdown",
      "source": [
        "### Tensor to NumPy array"
      ],
      "metadata": {
        "id": "nIwAaSexB-Yq"
      }
    },
    {
      "cell_type": "code",
      "source": [
        "# Tensor to NumPy array\n"
      ],
      "metadata": {
        "id": "2jOhRybDAeuP"
      },
      "execution_count": null,
      "outputs": []
    },
    {
      "cell_type": "code",
      "source": [
        "t = torch.ones(5)\n",
        "print(f\"t: {t}\")\n",
        "n = t.numpy()\n",
        "print(f\"n: {n}\")"
      ],
      "metadata": {
        "colab": {
          "base_uri": "https://localhost:8080/"
        },
        "id": "bB-Dcv6GAeqm",
        "outputId": "c434557f-7f79-4394-db4b-0fe940254bb7"
      },
      "execution_count": 24,
      "outputs": [
        {
          "output_type": "stream",
          "name": "stdout",
          "text": [
            "t: tensor([1., 1., 1., 1., 1.])\n",
            "n: [1. 1. 1. 1. 1.]\n"
          ]
        }
      ]
    },
    {
      "cell_type": "code",
      "source": [
        "t.add_(1)\n",
        "print(f\"t: {t}\")\n",
        "print(f\"n: {n}\")"
      ],
      "metadata": {
        "colab": {
          "base_uri": "https://localhost:8080/"
        },
        "id": "r1u1VrAEAenq",
        "outputId": "ddd448d7-0af0-4b37-81bb-5bfbf18a8ac0"
      },
      "execution_count": 25,
      "outputs": [
        {
          "output_type": "stream",
          "name": "stdout",
          "text": [
            "t: tensor([2., 2., 2., 2., 2.])\n",
            "n: [2. 2. 2. 2. 2.]\n"
          ]
        }
      ]
    },
    {
      "cell_type": "markdown",
      "source": [
        "### NumPy array to Tensor"
      ],
      "metadata": {
        "id": "FJzx9gKWCLlW"
      }
    },
    {
      "cell_type": "code",
      "source": [
        "# NumPy array to Tensor\n",
        "n = np.ones(5)\n",
        "t = torch.from_numpy(n)"
      ],
      "metadata": {
        "id": "QeVSnZ58AelP"
      },
      "execution_count": null,
      "outputs": []
    },
    {
      "cell_type": "code",
      "source": [
        "np.add(n, 1, out=n)\n",
        "print(f\"t: {t}\")\n",
        "print(f\"n: {n}\")"
      ],
      "metadata": {
        "colab": {
          "base_uri": "https://localhost:8080/"
        },
        "id": "sIl2eXvbAeiP",
        "outputId": "d6c67878-79ab-4979-ab52-b893ae6a28cf"
      },
      "execution_count": 26,
      "outputs": [
        {
          "output_type": "stream",
          "name": "stdout",
          "text": [
            "t: tensor([3., 3., 3., 3., 3.])\n",
            "n: [3. 3. 3. 3. 3.]\n"
          ]
        }
      ]
    },
    {
      "cell_type": "code",
      "source": [],
      "metadata": {
        "id": "Vo3BdCCyAefj"
      },
      "execution_count": null,
      "outputs": []
    },
    {
      "cell_type": "code",
      "source": [],
      "metadata": {
        "id": "Q6hJlUmpAec-"
      },
      "execution_count": null,
      "outputs": []
    }
  ]
}