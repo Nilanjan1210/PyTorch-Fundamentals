{
  "nbformat": 4,
  "nbformat_minor": 0,
  "metadata": {
    "colab": {
      "provenance": [],
      "gpuType": "T4",
      "include_colab_link": true
    },
    "kernelspec": {
      "name": "python3",
      "display_name": "Python 3"
    },
    "language_info": {
      "name": "python"
    },
    "accelerator": "GPU"
  },
  "cells": [
    {
      "cell_type": "markdown",
      "metadata": {
        "id": "view-in-github",
        "colab_type": "text"
      },
      "source": [
        "<a href=\"https://colab.research.google.com/github/Nilanjan1210/PyTorch-Fundamentals/blob/main/01.Tensor_Basics.ipynb\" target=\"_parent\"><img src=\"https://colab.research.google.com/assets/colab-badge.svg\" alt=\"Open In Colab\"/></a>"
      ]
    },
    {
      "cell_type": "markdown",
      "source": [
        "PyTorch is a Python-based scientific computing package serving two broad purposes:\n",
        "\n",
        "* A replacement for NumPy to use the power of GPUs and other accelerators.\n",
        "\n",
        "* An automatic differentiation library that is useful to implement neural networks."
      ],
      "metadata": {
        "id": "Ck2fPICb_WQz"
      }
    },
    {
      "cell_type": "markdown",
      "source": [
        "## **What are Tensors?**\n",
        "\n",
        "Tensor holds a multi-dimensional array of elements of a single data type which is very similar with numpy’s ndarray. When the dimension is zero, it can be called a scalar. When the dimension is 1, it can be called a vector. When the dimension is 2, it can be called a matrix.\n",
        "\n",
        "- 0-dimensional tensor: A single number (scalar).\n",
        "- 1-dimensional tensor: A list of numbers (vector).\n",
        "- 2-dimensional tensor: A table of numbers (matrix).\n",
        "\n",
        "When the dimension is greater than 2, it is usually called a tensor."
      ],
      "metadata": {
        "id": "kw37fysb8Zli"
      }
    },
    {
      "cell_type": "code",
      "source": [
        "import torch\n",
        "import numpy as np\n",
        "# Ignore warnings\n",
        "import warnings\n",
        "warnings.filterwarnings('ignore')\n",
        "\n",
        "# Print versions\n",
        "print(\"torch version:\", torch.__version__)\n",
        "print(\"numpy version:\", np.__version__)"
      ],
      "metadata": {
        "colab": {
          "base_uri": "https://localhost:8080/"
        },
        "id": "h9keNf1681AH",
        "outputId": "43c72751-1678-4957-cb93-2cebf2891b69"
      },
      "execution_count": null,
      "outputs": [
        {
          "output_type": "stream",
          "name": "stdout",
          "text": [
            "torch version: 2.6.0+cu124\n",
            "numpy version: 2.0.2\n"
          ]
        }
      ]
    },
    {
      "cell_type": "code",
      "source": [
        "# Creating a tensor\n",
        "# using empty method\n",
        "x = torch.empty(3)\n",
        "print(x)"
      ],
      "metadata": {
        "colab": {
          "base_uri": "https://localhost:8080/"
        },
        "id": "dnIiOSaT4QFO",
        "outputId": "66763197-0d24-47ac-9414-105544ed19a4"
      },
      "execution_count": null,
      "outputs": [
        {
          "output_type": "stream",
          "name": "stdout",
          "text": [
            "tensor([0., 0., 0.])\n"
          ]
        }
      ]
    },
    {
      "cell_type": "code",
      "source": [
        "type(x)"
      ],
      "metadata": {
        "colab": {
          "base_uri": "https://localhost:8080/"
        },
        "id": "j68lranB3T_2",
        "outputId": "de16622e-1b9a-40e7-f8ef-00b0bee38884"
      },
      "execution_count": null,
      "outputs": [
        {
          "output_type": "execute_result",
          "data": {
            "text/plain": [
              "torch.Tensor"
            ]
          },
          "metadata": {},
          "execution_count": 3
        }
      ]
    },
    {
      "cell_type": "code",
      "source": [
        "x.dtype"
      ],
      "metadata": {
        "colab": {
          "base_uri": "https://localhost:8080/"
        },
        "id": "HS_7C-Pt4dJ9",
        "outputId": "9dbe0ec6-ff85-45b3-d29a-e6cde77fff83"
      },
      "execution_count": null,
      "outputs": [
        {
          "output_type": "execute_result",
          "data": {
            "text/plain": [
              "torch.float32"
            ]
          },
          "metadata": {},
          "execution_count": 4
        }
      ]
    },
    {
      "cell_type": "markdown",
      "source": [
        "## Tensor Initialization"
      ],
      "metadata": {
        "id": "J1CfnjyI89tk"
      }
    },
    {
      "cell_type": "code",
      "source": [
        "# Directly from data\n",
        "data = [[7,8],[3,5]]\n",
        "x = torch.tensor(data)\n",
        "print(x)"
      ],
      "metadata": {
        "colab": {
          "base_uri": "https://localhost:8080/"
        },
        "id": "eMAJBEUn_w_t",
        "outputId": "7723bc1d-71ea-4c30-9785-77d5a3a34f9b"
      },
      "execution_count": null,
      "outputs": [
        {
          "output_type": "stream",
          "name": "stdout",
          "text": [
            "tensor([[7, 8],\n",
            "        [3, 5]])\n"
          ]
        }
      ]
    },
    {
      "cell_type": "code",
      "source": [
        "# usign zeros\n",
        "x = torch.zeros(2,3)\n",
        "print(x)"
      ],
      "metadata": {
        "colab": {
          "base_uri": "https://localhost:8080/"
        },
        "id": "JsB_Zn764f2S",
        "outputId": "82350631-c20b-4406-909d-b87a26eacf95"
      },
      "execution_count": null,
      "outputs": [
        {
          "output_type": "stream",
          "name": "stdout",
          "text": [
            "tensor([[0., 0., 0.],\n",
            "        [0., 0., 0.]])\n"
          ]
        }
      ]
    },
    {
      "cell_type": "code",
      "source": [
        "# using ones\n",
        "x = torch.ones(2,3)\n",
        "print(x)"
      ],
      "metadata": {
        "colab": {
          "base_uri": "https://localhost:8080/"
        },
        "id": "pz8_Ey-d4j5-",
        "outputId": "1e4c8c23-b13b-4b61-cfb4-497e5709abe8"
      },
      "execution_count": null,
      "outputs": [
        {
          "output_type": "stream",
          "name": "stdout",
          "text": [
            "tensor([[1., 1., 1.],\n",
            "        [1., 1., 1.]])\n"
          ]
        }
      ]
    },
    {
      "cell_type": "code",
      "source": [
        "# using rand\n",
        "x = torch.rand(2,3)\n",
        "print(x)"
      ],
      "metadata": {
        "colab": {
          "base_uri": "https://localhost:8080/"
        },
        "id": "rhFEGxbk4mc_",
        "outputId": "e7f18b17-fd02-4815-bef4-481184ac092a"
      },
      "execution_count": null,
      "outputs": [
        {
          "output_type": "stream",
          "name": "stdout",
          "text": [
            "tensor([[0.7200, 0.4621, 0.6482],\n",
            "        [0.6012, 0.5924, 0.5865]])\n"
          ]
        }
      ]
    },
    {
      "cell_type": "code",
      "source": [
        "# to regenarate same random number to fixed seed\n",
        "torch.manual_seed(42)\n",
        "x = torch.rand(2,3)\n",
        "print(x)"
      ],
      "metadata": {
        "colab": {
          "base_uri": "https://localhost:8080/"
        },
        "id": "mg8AtACe4qQX",
        "outputId": "0455c15b-bc1f-444d-9e3c-5dda485e7360"
      },
      "execution_count": null,
      "outputs": [
        {
          "output_type": "stream",
          "name": "stdout",
          "text": [
            "tensor([[0.8823, 0.9150, 0.3829],\n",
            "        [0.9593, 0.3904, 0.6009]])\n"
          ]
        }
      ]
    },
    {
      "cell_type": "code",
      "source": [
        "# using tesor fuction\n",
        "torch.tensor([[1,2,3],[4,5,6]])"
      ],
      "metadata": {
        "colab": {
          "base_uri": "https://localhost:8080/"
        },
        "id": "6_rrxcsN40xT",
        "outputId": "269e2565-8353-4e5e-f1c2-9a47b61da23c"
      },
      "execution_count": null,
      "outputs": [
        {
          "output_type": "execute_result",
          "data": {
            "text/plain": [
              "tensor([[1, 2, 3],\n",
              "        [4, 5, 6]])"
            ]
          },
          "metadata": {},
          "execution_count": 10
        }
      ]
    },
    {
      "cell_type": "code",
      "source": [
        "# using arrange fucntion\n",
        "torch.arange(0,18,2).reshape(3,3)"
      ],
      "metadata": {
        "colab": {
          "base_uri": "https://localhost:8080/"
        },
        "id": "IW7uVs045BDL",
        "outputId": "4c7e1339-4027-4958-9b8e-f3719d524d4e"
      },
      "execution_count": null,
      "outputs": [
        {
          "output_type": "execute_result",
          "data": {
            "text/plain": [
              "tensor([[ 0,  2,  4],\n",
              "        [ 6,  8, 10],\n",
              "        [12, 14, 16]])"
            ]
          },
          "metadata": {},
          "execution_count": 11
        }
      ]
    },
    {
      "cell_type": "code",
      "source": [
        "# using linspace\n",
        "torch.linspace(0,18,12).reshape(3,4)"
      ],
      "metadata": {
        "colab": {
          "base_uri": "https://localhost:8080/"
        },
        "id": "QhX60QXr5JKI",
        "outputId": "208ce069-4380-4466-9f26-9b91bca889dd"
      },
      "execution_count": null,
      "outputs": [
        {
          "output_type": "execute_result",
          "data": {
            "text/plain": [
              "tensor([[ 0.0000,  1.6364,  3.2727,  4.9091],\n",
              "        [ 6.5455,  8.1818,  9.8182, 11.4545],\n",
              "        [13.0909, 14.7273, 16.3636, 18.0000]])"
            ]
          },
          "metadata": {},
          "execution_count": 12
        }
      ]
    },
    {
      "cell_type": "code",
      "source": [
        "# usign eye\n",
        "torch.eye(5)"
      ],
      "metadata": {
        "colab": {
          "base_uri": "https://localhost:8080/"
        },
        "id": "osUEPBEC5P7j",
        "outputId": "023c5e56-04b7-4335-e943-f91b0595d26a"
      },
      "execution_count": null,
      "outputs": [
        {
          "output_type": "execute_result",
          "data": {
            "text/plain": [
              "tensor([[1., 0., 0., 0., 0.],\n",
              "        [0., 1., 0., 0., 0.],\n",
              "        [0., 0., 1., 0., 0.],\n",
              "        [0., 0., 0., 1., 0.],\n",
              "        [0., 0., 0., 0., 1.]])"
            ]
          },
          "metadata": {},
          "execution_count": 13
        }
      ]
    },
    {
      "cell_type": "code",
      "source": [
        "# using full\n",
        "torch.full((2,3),4)"
      ],
      "metadata": {
        "colab": {
          "base_uri": "https://localhost:8080/"
        },
        "id": "nNmRfjfz5Z59",
        "outputId": "0c1aad7d-7cb5-4e8a-862b-7a254103d6a0"
      },
      "execution_count": null,
      "outputs": [
        {
          "output_type": "execute_result",
          "data": {
            "text/plain": [
              "tensor([[4, 4, 4],\n",
              "        [4, 4, 4]])"
            ]
          },
          "metadata": {},
          "execution_count": 14
        }
      ]
    },
    {
      "cell_type": "code",
      "source": [
        "# to check tensor shape\n",
        "z = torch.rand(2,3)\n",
        "z.shape"
      ],
      "metadata": {
        "colab": {
          "base_uri": "https://localhost:8080/"
        },
        "id": "la_fBlZO5dB0",
        "outputId": "a843017b-481e-4bf6-a7d0-b3c759e6923f"
      },
      "execution_count": null,
      "outputs": [
        {
          "output_type": "execute_result",
          "data": {
            "text/plain": [
              "torch.Size([2, 3])"
            ]
          },
          "metadata": {},
          "execution_count": 15
        }
      ]
    },
    {
      "cell_type": "code",
      "source": [
        "# Usign empty fucntion to create a same shape tansor\n",
        "print(torch.empty_like(z))\n",
        "print(torch.zeros_like(z))\n",
        "print(torch.ones_like(z))"
      ],
      "metadata": {
        "colab": {
          "base_uri": "https://localhost:8080/"
        },
        "id": "LvHB04a-5kkk",
        "outputId": "44356334-e47e-476d-9834-73885b7dd0bb"
      },
      "execution_count": null,
      "outputs": [
        {
          "output_type": "stream",
          "name": "stdout",
          "text": [
            "tensor([[0.0000e+00, 0.0000e+00, 1.8788e+31],\n",
            "        [1.7220e+22, 2.1715e-18, 2.6705e+23]])\n",
            "tensor([[0., 0., 0.],\n",
            "        [0., 0., 0.]])\n",
            "tensor([[1., 1., 1.],\n",
            "        [1., 1., 1.]])\n"
          ]
        }
      ]
    },
    {
      "cell_type": "code",
      "source": [
        "# Create a tensor with values drawn from a normal distribution\n",
        "x = torch.empty(1, 5).normal_(mean=0, std=1)\n",
        "print(\"Normal Distributed Tensor:\\n\", x)"
      ],
      "metadata": {
        "colab": {
          "base_uri": "https://localhost:8080/"
        },
        "id": "HOWCfxyR9p9V",
        "outputId": "14b987be-a6f8-42de-baf1-da957d567e9c"
      },
      "execution_count": null,
      "outputs": [
        {
          "output_type": "stream",
          "name": "stdout",
          "text": [
            "Normal Distributed Tensor:\n",
            " tensor([[ 2.2082, -0.6380,  0.4617,  0.2674,  0.5349]])\n"
          ]
        }
      ]
    },
    {
      "cell_type": "code",
      "source": [
        "# Create a tensor with values drawn from a uniform distribution\n",
        "x = torch.empty(1, 5).uniform_(0, 1)\n",
        "print(\"Uniform Distributed Tensor:\\n\", x)"
      ],
      "metadata": {
        "colab": {
          "base_uri": "https://localhost:8080/"
        },
        "id": "S5gqoAMQ9p55",
        "outputId": "c66f05fe-dacb-48c1-c979-5a65fef02718"
      },
      "execution_count": null,
      "outputs": [
        {
          "output_type": "stream",
          "name": "stdout",
          "text": [
            "Uniform Distributed Tensor:\n",
            " tensor([[0.1053, 0.2695, 0.3588, 0.1994, 0.5472]])\n"
          ]
        }
      ]
    },
    {
      "cell_type": "code",
      "source": [
        "# Create a diagonal tensor from a tensor of ones\n",
        "x = torch.diag(torch.ones(4))\n",
        "print(\"Diagonal Tensor:\\n\", x)"
      ],
      "metadata": {
        "colab": {
          "base_uri": "https://localhost:8080/"
        },
        "id": "l17fIP7Z9wwo",
        "outputId": "1530213f-2cc8-460b-cb98-5310479ee8cc"
      },
      "execution_count": null,
      "outputs": [
        {
          "output_type": "stream",
          "name": "stdout",
          "text": [
            "Diagonal Tensor:\n",
            " tensor([[1., 0., 0., 0.],\n",
            "        [0., 1., 0., 0.],\n",
            "        [0., 0., 1., 0.],\n",
            "        [0., 0., 0., 1.]])\n"
          ]
        }
      ]
    },
    {
      "cell_type": "markdown",
      "source": [
        "## Tensor Type Conversion"
      ],
      "metadata": {
        "id": "lzw-UL9d9XdD"
      }
    },
    {
      "cell_type": "code",
      "source": [
        "# when we create tensor to assign data type\n",
        "x = torch.tensor([1,2,3,34], dtype=torch.float)\n",
        "print(x)"
      ],
      "metadata": {
        "colab": {
          "base_uri": "https://localhost:8080/"
        },
        "id": "gwcIh-Yy5xSF",
        "outputId": "b7dfa06f-6f66-4a67-b165-ba6707079cbe"
      },
      "execution_count": null,
      "outputs": [
        {
          "output_type": "stream",
          "name": "stdout",
          "text": [
            "tensor([ 1.,  2.,  3., 34.])\n"
          ]
        }
      ]
    },
    {
      "cell_type": "code",
      "source": [
        "x.dtype"
      ],
      "metadata": {
        "colab": {
          "base_uri": "https://localhost:8080/"
        },
        "id": "oLKxFyi_6Kb3",
        "outputId": "4e7ccbf1-a55a-440f-9b49-2d224316f19d"
      },
      "execution_count": null,
      "outputs": [
        {
          "output_type": "execute_result",
          "data": {
            "text/plain": [
              "torch.float32"
            ]
          },
          "metadata": {},
          "execution_count": 21
        }
      ]
    },
    {
      "cell_type": "code",
      "source": [
        "x = torch.tensor([1,2,3,34], dtype=torch.int64)\n",
        "print(x)"
      ],
      "metadata": {
        "colab": {
          "base_uri": "https://localhost:8080/"
        },
        "id": "sJ_T-3ov6O8w",
        "outputId": "d8f45539-6e32-4e62-a0bb-02047c79bd93"
      },
      "execution_count": null,
      "outputs": [
        {
          "output_type": "stream",
          "name": "stdout",
          "text": [
            "tensor([ 1,  2,  3, 34])\n"
          ]
        }
      ]
    },
    {
      "cell_type": "code",
      "source": [
        "x.dtype"
      ],
      "metadata": {
        "colab": {
          "base_uri": "https://localhost:8080/"
        },
        "id": "q2DZoCge6Tw8",
        "outputId": "ebe31877-77cd-4d4a-ced3-8142c273d3b2"
      },
      "execution_count": null,
      "outputs": [
        {
          "output_type": "execute_result",
          "data": {
            "text/plain": [
              "torch.int64"
            ]
          },
          "metadata": {},
          "execution_count": 23
        }
      ]
    },
    {
      "cell_type": "code",
      "source": [
        "# Create a tensor and convert its type\n",
        "tensor = torch.arange(4)\n",
        "print(\"Boolean Tensor:\", tensor.bool())   # Convert to boolean\n",
        "print(\"Short Tensor (int16):\", tensor.short())   # Convert to int16\n",
        "print(\"Long Tensor (int64):\", tensor.long())   # Convert to int64\n",
        "print(\"Half Tensor (float16):\", tensor.half())   # Convert to float16\n",
        "print(\"Float Tensor (float32):\", tensor.float())   # Convert to float32\n",
        "print(\"Double Tensor (float64):\", tensor.double())   # Convert to float64"
      ],
      "metadata": {
        "colab": {
          "base_uri": "https://localhost:8080/"
        },
        "id": "hoAVidhs95d9",
        "outputId": "c136dc49-c154-4360-8f1c-b549a054fcad"
      },
      "execution_count": null,
      "outputs": [
        {
          "output_type": "stream",
          "name": "stdout",
          "text": [
            "Boolean Tensor: tensor([False,  True,  True,  True])\n",
            "Short Tensor (int16): tensor([0, 1, 2, 3], dtype=torch.int16)\n",
            "Long Tensor (int64): tensor([0, 1, 2, 3])\n",
            "Half Tensor (float16): tensor([0., 1., 2., 3.], dtype=torch.float16)\n",
            "Float Tensor (float32): tensor([0., 1., 2., 3.])\n",
            "Double Tensor (float64): tensor([0., 1., 2., 3.], dtype=torch.float64)\n"
          ]
        }
      ]
    },
    {
      "cell_type": "markdown",
      "source": [
        "## Tensor Mathematics and Comparison Operations"
      ],
      "metadata": {
        "id": "HCa_sTkt-Fp3"
      }
    },
    {
      "cell_type": "code",
      "source": [
        "# Mathematical Operation\n",
        "x = torch.tensor(range(1,10), dtype=float).reshape(3,3)\n",
        "y = torch.tensor(range(9,0,-1), dtype=float).reshape(3,3)\n",
        "print(x)\n",
        "print(y)\n",
        "print(x+2)\n",
        "print(x-2)\n",
        "print(x*2)\n",
        "print(x/2)\n",
        "print(x%2)\n",
        "print(x+y)\n",
        "print(x-y)\n",
        "print(x*y)\n",
        "print(x/y)\n",
        "print(x%y)\n",
        "\n"
      ],
      "metadata": {
        "colab": {
          "base_uri": "https://localhost:8080/"
        },
        "id": "P6ukJunS6VmF",
        "outputId": "c80b52a5-619e-4bf5-b709-5502651cad9d"
      },
      "execution_count": null,
      "outputs": [
        {
          "output_type": "stream",
          "name": "stdout",
          "text": [
            "tensor([[1., 2., 3.],\n",
            "        [4., 5., 6.],\n",
            "        [7., 8., 9.]], dtype=torch.float64)\n",
            "tensor([[9., 8., 7.],\n",
            "        [6., 5., 4.],\n",
            "        [3., 2., 1.]], dtype=torch.float64)\n",
            "tensor([[ 3.,  4.,  5.],\n",
            "        [ 6.,  7.,  8.],\n",
            "        [ 9., 10., 11.]], dtype=torch.float64)\n",
            "tensor([[-1.,  0.,  1.],\n",
            "        [ 2.,  3.,  4.],\n",
            "        [ 5.,  6.,  7.]], dtype=torch.float64)\n",
            "tensor([[ 2.,  4.,  6.],\n",
            "        [ 8., 10., 12.],\n",
            "        [14., 16., 18.]], dtype=torch.float64)\n",
            "tensor([[0.5000, 1.0000, 1.5000],\n",
            "        [2.0000, 2.5000, 3.0000],\n",
            "        [3.5000, 4.0000, 4.5000]], dtype=torch.float64)\n",
            "tensor([[1., 0., 1.],\n",
            "        [0., 1., 0.],\n",
            "        [1., 0., 1.]], dtype=torch.float64)\n",
            "tensor([[10., 10., 10.],\n",
            "        [10., 10., 10.],\n",
            "        [10., 10., 10.]], dtype=torch.float64)\n",
            "tensor([[-8., -6., -4.],\n",
            "        [-2.,  0.,  2.],\n",
            "        [ 4.,  6.,  8.]], dtype=torch.float64)\n",
            "tensor([[ 9., 16., 21.],\n",
            "        [24., 25., 24.],\n",
            "        [21., 16.,  9.]], dtype=torch.float64)\n",
            "tensor([[0.1111, 0.2500, 0.4286],\n",
            "        [0.6667, 1.0000, 1.5000],\n",
            "        [2.3333, 4.0000, 9.0000]], dtype=torch.float64)\n",
            "tensor([[1., 2., 3.],\n",
            "        [4., 0., 2.],\n",
            "        [1., 0., 0.]], dtype=torch.float64)\n"
          ]
        }
      ]
    },
    {
      "cell_type": "code",
      "source": [
        "c = torch.tensor([1,-2,3,-4]  ,dtype  = float)\n",
        "print(torch.abs(c))"
      ],
      "metadata": {
        "colab": {
          "base_uri": "https://localhost:8080/"
        },
        "id": "LYoBaIDD6gxc",
        "outputId": "1991c44c-2b3c-4c67-cbf1-227c64bc50b7"
      },
      "execution_count": null,
      "outputs": [
        {
          "output_type": "stream",
          "name": "stdout",
          "text": [
            "tensor([1., 2., 3., 4.], dtype=torch.float64)\n"
          ]
        }
      ]
    },
    {
      "cell_type": "code",
      "source": [
        "torch.neg(c)"
      ],
      "metadata": {
        "colab": {
          "base_uri": "https://localhost:8080/"
        },
        "id": "wt-IEqbj7zjm",
        "outputId": "94387e9c-8220-457d-c834-edcb9ed8922e"
      },
      "execution_count": null,
      "outputs": [
        {
          "output_type": "execute_result",
          "data": {
            "text/plain": [
              "tensor([-1.,  2., -3.,  4.], dtype=torch.float64)"
            ]
          },
          "metadata": {},
          "execution_count": 27
        }
      ]
    },
    {
      "cell_type": "code",
      "source": [
        "torch.manual_seed(123)\n",
        "d  = torch.rand(3,4)\n",
        "print(d )\n",
        "print(torch.round(d))\n",
        "print(torch.ceil(d))\n",
        "print(torch.floor(d))\n",
        "print(torch.trunc(d))\n",
        "print(torch.frac(d)) # fractional part is the remainder after dividing the number by 1."
      ],
      "metadata": {
        "colab": {
          "base_uri": "https://localhost:8080/"
        },
        "id": "NS6ZNrVn77vl",
        "outputId": "8aab0712-4bde-4a65-84bf-00bf915f83c5"
      },
      "execution_count": null,
      "outputs": [
        {
          "output_type": "stream",
          "name": "stdout",
          "text": [
            "tensor([[0.2961, 0.5166, 0.2517, 0.6886],\n",
            "        [0.0740, 0.8665, 0.1366, 0.1025],\n",
            "        [0.1841, 0.7264, 0.3153, 0.6871]])\n",
            "tensor([[0., 1., 0., 1.],\n",
            "        [0., 1., 0., 0.],\n",
            "        [0., 1., 0., 1.]])\n",
            "tensor([[1., 1., 1., 1.],\n",
            "        [1., 1., 1., 1.],\n",
            "        [1., 1., 1., 1.]])\n",
            "tensor([[0., 0., 0., 0.],\n",
            "        [0., 0., 0., 0.],\n",
            "        [0., 0., 0., 0.]])\n",
            "tensor([[0., 0., 0., 0.],\n",
            "        [0., 0., 0., 0.],\n",
            "        [0., 0., 0., 0.]])\n",
            "tensor([[0.2961, 0.5166, 0.2517, 0.6886],\n",
            "        [0.0740, 0.8665, 0.1366, 0.1025],\n",
            "        [0.1841, 0.7264, 0.3153, 0.6871]])\n"
          ]
        }
      ]
    },
    {
      "cell_type": "code",
      "source": [
        "torch.manual_seed(12)\n",
        "d  = torch.rand(3,4)\n",
        "print(d )\n",
        "print(d.max())\n",
        "print(d.max(dim=0)) # sum of along column\n",
        "print(d.max(dim=1)) # sum of along row\n",
        "print(d.min())\n",
        "print(d.min(dim=0))\n",
        "print(d.min(dim=1))\n",
        "print(d.mean)\n",
        "print(d.mean(dim=0))\n",
        "print(d.mean(dim=1))\n",
        "print(d.sum())\n",
        "print(d.sum(dim=0))\n",
        "print(d.sum(dim=1))\n",
        "print(d.std())\n",
        "print(d.std(dim=0))\n",
        "print(d.std(dim=1))"
      ],
      "metadata": {
        "colab": {
          "base_uri": "https://localhost:8080/"
        },
        "id": "VusIAKZi77sC",
        "outputId": "bafe94ba-3b7a-4226-c9b2-49b37e1ab127"
      },
      "execution_count": null,
      "outputs": [
        {
          "output_type": "stream",
          "name": "stdout",
          "text": [
            "tensor([[0.4657, 0.2328, 0.4527, 0.5871],\n",
            "        [0.4086, 0.1272, 0.6373, 0.2421],\n",
            "        [0.7312, 0.7224, 0.1992, 0.6948]])\n",
            "tensor(0.7312)\n",
            "torch.return_types.max(\n",
            "values=tensor([0.7312, 0.7224, 0.6373, 0.6948]),\n",
            "indices=tensor([2, 2, 1, 2]))\n",
            "torch.return_types.max(\n",
            "values=tensor([0.5871, 0.6373, 0.7312]),\n",
            "indices=tensor([3, 2, 0]))\n",
            "tensor(0.1272)\n",
            "torch.return_types.min(\n",
            "values=tensor([0.4086, 0.1272, 0.1992, 0.2421]),\n",
            "indices=tensor([1, 1, 2, 1]))\n",
            "torch.return_types.min(\n",
            "values=tensor([0.2328, 0.1272, 0.1992]),\n",
            "indices=tensor([1, 1, 2]))\n",
            "<built-in method mean of Tensor object at 0x78ce6e88a1b0>\n",
            "tensor([0.5352, 0.3608, 0.4297, 0.5080])\n",
            "tensor([0.4346, 0.3538, 0.5869])\n",
            "tensor(5.5011)\n",
            "tensor([1.6055, 1.0824, 1.2892, 1.5240])\n",
            "tensor([1.7383, 1.4152, 2.3477])\n",
            "tensor(0.2186)\n",
            "tensor([0.1721, 0.3176, 0.2199, 0.2365])\n",
            "tensor([0.1475, 0.2215, 0.2589])\n"
          ]
        }
      ]
    },
    {
      "cell_type": "code",
      "source": [
        "torch.manual_seed(101)\n",
        "d  = torch.rand(3,4)\n",
        "print(d )\n",
        "# Clamp method\n",
        "print(torch.clamp(d,min=0.2,max=0.8))"
      ],
      "metadata": {
        "colab": {
          "base_uri": "https://localhost:8080/"
        },
        "id": "LVsONrBp77pb",
        "outputId": "97ecb0c8-1361-4a57-8989-b8ac1616f577"
      },
      "execution_count": null,
      "outputs": [
        {
          "output_type": "stream",
          "name": "stdout",
          "text": [
            "tensor([[0.1980, 0.4503, 0.0909, 0.8872],\n",
            "        [0.2894, 0.0186, 0.9095, 0.3406],\n",
            "        [0.4309, 0.7324, 0.4776, 0.0716]])\n",
            "tensor([[0.2000, 0.4503, 0.2000, 0.8000],\n",
            "        [0.2894, 0.2000, 0.8000, 0.3406],\n",
            "        [0.4309, 0.7324, 0.4776, 0.2000]])\n"
          ]
        }
      ]
    },
    {
      "cell_type": "code",
      "source": [
        "print(torch.median(d))\n",
        "print(torch.median(d,dim=0) )\n",
        "print(torch.median(d,dim=1))"
      ],
      "metadata": {
        "colab": {
          "base_uri": "https://localhost:8080/"
        },
        "id": "9JDe_Eqc77f9",
        "outputId": "69cd1af8-0266-4afb-b00f-10d3d771e3c8"
      },
      "execution_count": null,
      "outputs": [
        {
          "output_type": "stream",
          "name": "stdout",
          "text": [
            "tensor(0.3406)\n",
            "torch.return_types.median(\n",
            "values=tensor([0.2894, 0.4503, 0.4776, 0.3406]),\n",
            "indices=tensor([1, 0, 2, 1]))\n",
            "torch.return_types.median(\n",
            "values=tensor([0.1980, 0.2894, 0.4309]),\n",
            "indices=tensor([0, 0, 0]))\n"
          ]
        }
      ]
    },
    {
      "cell_type": "code",
      "source": [
        "print(torch.prod(d))\n",
        "print(torch.prod(d,dim=0))\n",
        "print(torch.prod(d,dim=1))"
      ],
      "metadata": {
        "colab": {
          "base_uri": "https://localhost:8080/"
        },
        "id": "Bxle7DaD77cc",
        "outputId": "e9fdc6ba-cf8e-483f-b394-c54af079fa92"
      },
      "execution_count": null,
      "outputs": [
        {
          "output_type": "stream",
          "name": "stdout",
          "text": [
            "tensor(1.2940e-07)\n",
            "tensor([0.0247, 0.0061, 0.0395, 0.0216])\n",
            "tensor([0.0072, 0.0017, 0.0108])\n"
          ]
        }
      ]
    },
    {
      "cell_type": "code",
      "source": [
        "#  Stander deviation\n",
        "print(torch.std(d))\n",
        "print(torch.var(d))\n",
        "print(d)\n",
        "print(torch.argmax(d))\n",
        "print(torch.argmin(d))"
      ],
      "metadata": {
        "colab": {
          "base_uri": "https://localhost:8080/"
        },
        "id": "tFRxcSCs77Zz",
        "outputId": "1e4c67d1-4e0b-45e8-9a83-22941e7bf0de"
      },
      "execution_count": null,
      "outputs": [
        {
          "output_type": "stream",
          "name": "stdout",
          "text": [
            "tensor(0.3047)\n",
            "tensor(0.0929)\n",
            "tensor([[0.1980, 0.4503, 0.0909, 0.8872],\n",
            "        [0.2894, 0.0186, 0.9095, 0.3406],\n",
            "        [0.4309, 0.7324, 0.4776, 0.0716]])\n",
            "tensor(6)\n",
            "tensor(5)\n"
          ]
        }
      ]
    },
    {
      "cell_type": "code",
      "source": [
        "# Matrix operation or 2D tensor operation\n",
        "f = torch.randint(size=(2,3), low = 0, high = 20)\n",
        "g = torch.randint(size=(3,2), low = 0, high = 20)\n",
        "print(f)\n",
        "print(g)\n",
        "# matrix miltiplictaion\n",
        "print(torch.mm(f,g))\n",
        "print(torch.matmul(f,g))\n",
        "print(torch.transpose(f,0,1))"
      ],
      "metadata": {
        "colab": {
          "base_uri": "https://localhost:8080/"
        },
        "id": "eaoE9zSN77XL",
        "outputId": "eedc8535-7834-44cb-a0ce-3631cc32e346"
      },
      "execution_count": null,
      "outputs": [
        {
          "output_type": "stream",
          "name": "stdout",
          "text": [
            "tensor([[ 0, 15, 12],\n",
            "        [17, 12,  0]])\n",
            "tensor([[ 8, 18],\n",
            "        [ 1, 16],\n",
            "        [ 9, 12]])\n",
            "tensor([[123, 384],\n",
            "        [148, 498]])\n",
            "tensor([[123, 384],\n",
            "        [148, 498]])\n",
            "tensor([[ 0, 17],\n",
            "        [15, 12],\n",
            "        [12,  0]])\n"
          ]
        }
      ]
    },
    {
      "cell_type": "code",
      "source": [
        "h = torch.randint(size=(3,3), low = 0, high = 20,\n",
        "dtype = float)\n",
        "print(h)\n",
        "print(torch.det(h))"
      ],
      "metadata": {
        "colab": {
          "base_uri": "https://localhost:8080/"
        },
        "id": "mrZO-_oc77Ur",
        "outputId": "baeeeef4-f529-4641-ce51-272539539eba"
      },
      "execution_count": null,
      "outputs": [
        {
          "output_type": "stream",
          "name": "stdout",
          "text": [
            "tensor([[17., 15., 11.],\n",
            "        [ 2., 16., 11.],\n",
            "        [ 9.,  3.,  7.]], dtype=torch.float64)\n",
            "tensor(1100.0000, dtype=torch.float64)\n"
          ]
        }
      ]
    },
    {
      "cell_type": "markdown",
      "source": [
        "### Implace operator"
      ],
      "metadata": {
        "id": "3qDu0iaaBBBR"
      }
    },
    {
      "cell_type": "code",
      "source": [
        "# Implace operator\n",
        "# we want to change and store in same variable the use methosname_ like \"add_\" method\n",
        "m = torch.randint(size=(2,3), low = 0, high = 20)\n",
        "print(m)\n",
        "m.add_(10)\n",
        "print(m)"
      ],
      "metadata": {
        "colab": {
          "base_uri": "https://localhost:8080/"
        },
        "id": "lhjxVMKy77Ro",
        "outputId": "89ffd639-4523-455d-9f05-99cb6dc31133"
      },
      "execution_count": null,
      "outputs": [
        {
          "output_type": "stream",
          "name": "stdout",
          "text": [
            "tensor([[ 6, 16, 16],\n",
            "        [17, 11, 14]])\n",
            "tensor([[16, 26, 26],\n",
            "        [27, 21, 24]])\n"
          ]
        }
      ]
    },
    {
      "cell_type": "code",
      "source": [
        "# Copy a tencor\n",
        "a = torch.randint(size=(2,3), low = 0, high = 20)\n",
        "c = a\n",
        "print(id(a))\n",
        "print(id(c))\n",
        "print(a)\n",
        "b = a.clone()\n",
        "print(b)\n",
        "print(id(b))"
      ],
      "metadata": {
        "colab": {
          "base_uri": "https://localhost:8080/"
        },
        "id": "Hy4K3rOl77O_",
        "outputId": "7a7b9d07-4907-4a55-ca34-f130e05c22c5"
      },
      "execution_count": null,
      "outputs": [
        {
          "output_type": "stream",
          "name": "stdout",
          "text": [
            "132824174437744\n",
            "132824174437744\n",
            "tensor([[18,  8, 11],\n",
            "        [11,  3,  8]])\n",
            "tensor([[18,  8, 11],\n",
            "        [11,  3,  8]])\n",
            "132824174434768\n"
          ]
        }
      ]
    },
    {
      "cell_type": "markdown",
      "source": [
        "## Tensor operation on GPU"
      ],
      "metadata": {
        "id": "vhvX0RqoA2YS"
      }
    },
    {
      "cell_type": "code",
      "source": [
        "# TO ENABEL YOUR GPU\n",
        "print(torch.cuda.is_available())\n",
        "device = \"cuda\" if torch.cuda.is_available() else \"cpu\"\n",
        "print(device)\n",
        "print(torch.cuda.is_available())"
      ],
      "metadata": {
        "colab": {
          "base_uri": "https://localhost:8080/"
        },
        "id": "dSQk0esa77Mt",
        "outputId": "0b8408a9-c968-47a8-8264-8b77ef72b736"
      },
      "execution_count": null,
      "outputs": [
        {
          "output_type": "stream",
          "name": "stdout",
          "text": [
            "True\n",
            "cuda\n",
            "True\n"
          ]
        }
      ]
    },
    {
      "cell_type": "code",
      "source": [
        "# creating a new tensor in GPU\n",
        "torch.rand((2,3), device=device)"
      ],
      "metadata": {
        "colab": {
          "base_uri": "https://localhost:8080/"
        },
        "id": "hceRXqn677HP",
        "outputId": "e1835e12-aa6c-4951-8100-a8426cbba35f"
      },
      "execution_count": null,
      "outputs": [
        {
          "output_type": "execute_result",
          "data": {
            "text/plain": [
              "tensor([[0.6941, 0.0714, 0.3151],\n",
              "        [0.0764, 0.6683, 0.1244]], device='cuda:0')"
            ]
          },
          "metadata": {},
          "execution_count": 39
        }
      ]
    },
    {
      "cell_type": "code",
      "source": [
        "# moving an existing tensor to GPU\n",
        "a = torch.rand((2,3))\n",
        "b = a.to(device)\n",
        "print(b+5) # to perform on GPU\n"
      ],
      "metadata": {
        "colab": {
          "base_uri": "https://localhost:8080/"
        },
        "id": "dWC5_8Go77Cq",
        "outputId": "ac75a0ea-c69e-4d9f-f99b-0b1afc3f4c9a"
      },
      "execution_count": null,
      "outputs": [
        {
          "output_type": "stream",
          "name": "stdout",
          "text": [
            "tensor([[5.8646, 5.2945, 5.6296],\n",
            "        [5.8637, 5.4373, 5.5454]], device='cuda:0')\n"
          ]
        }
      ]
    },
    {
      "cell_type": "code",
      "source": [
        "# To check the performance on GPU\n",
        "import  torch\n",
        "import time\n",
        "size = 10000\n",
        "#Create random matrix on CPU\n",
        "matrix_cpu1 = torch.rand((size,size))\n",
        "matrix_cpu2 = torch.rand((size,size))\n",
        "# measure time on CPU\n",
        "start_time = time.time()\n",
        "result_cpu = torch.matmul(matrix_cpu1,matrix_cpu2)\n",
        "end_time = time.time()\n",
        "print(\"Time taken on CPU:\", end_time - start_time)\n",
        "#Create random matrix on GPU\n",
        "matrix_gpu1 = matrix_cpu1.to(\"cuda\")\n",
        "matrix_gpu2 = matrix_cpu2.to(\"cuda\")\n",
        "start_time = time.time()\n",
        "# Measure time on GPU\n",
        "start_time = time.time()\n",
        "result_gpu = torch.matmul(matrix_gpu1,matrix_gpu2)\n",
        "end_time = time.time()\n",
        "print(\"Time taken on GPU:\", end_time - start_time)\n"
      ],
      "metadata": {
        "id": "WvcUe8hi77AL",
        "colab": {
          "base_uri": "https://localhost:8080/"
        },
        "outputId": "4b371435-3bfb-41dd-bd3e-ef46eb8bdfe0"
      },
      "execution_count": null,
      "outputs": [
        {
          "output_type": "stream",
          "name": "stdout",
          "text": [
            "Time taken on CPU: 26.012566089630127\n",
            "Time taken on GPU: 0.12827014923095703\n"
          ]
        }
      ]
    },
    {
      "cell_type": "markdown",
      "source": [
        "### Reshaping Tensor"
      ],
      "metadata": {
        "id": "-SvRbBuuBJcS"
      }
    },
    {
      "cell_type": "markdown",
      "source": [
        "Learn how to reshape tensors, concatenate them, and change the order of dimensions.\n",
        "\n",
        "- **Reshape with `view()` & `reshape()`:** Change tensor shape without altering data.  \n",
        "- **Transpose & Flatten:** `.t()` transposes, `.contiguous().view(-1)` flattens.  \n",
        "- **Concatenation:** `torch.cat([x1, x2], dim=0/1)` merges tensors along rows/columns.  \n",
        "- **Flattening:** `.view(-1)` converts a tensor into a 1D array.  \n",
        "- **Batch Reshaping:** `.view(batch, -1)` keeps batch size while reshaping.  \n",
        "- **Permute Dimensions:** `.permute(0, 2, 1)` reorders dimensions efficiently.  \n",
        "- **Unsqueeze for New Dimensions:** `.unsqueeze(dim)` adds singleton dimensions.  "
      ],
      "metadata": {
        "id": "8dCE7emnBddQ"
      }
    },
    {
      "cell_type": "code",
      "source": [
        "# Reshape a tensor using view and reshape\n",
        "x = torch.arange(9)\n",
        "x_3x3 = x.view(3, 3)\n",
        "print(\"Reshaped to 3x3 using view:\\n\", x_3x3)\n",
        "x_3x3 = x.reshape(3, 3)\n",
        "print(\"Reshaped to 3x3 using reshape:\\n\", x_3x3)\n",
        "\n",
        "# Transpose and flatten the tensor\n",
        "y = x_3x3.t()\n",
        "print(\"Flattened transposed tensor:\", y.contiguous().view(9))\n",
        "\n",
        "# Concatenation example\n",
        "x1 = torch.rand(2, 5)\n",
        "x2 = torch.rand(2, 5)\n",
        "print(\"Concatenated along dimension 0 (rows):\", torch.cat([x1, x2], dim=0).shape)\n",
        "print(\"Concatenated along dimension 1 (columns):\", torch.cat([x1, x2], dim=1).shape)\n",
        "\n",
        "# Flatten the tensor using view(-1)\n",
        "z = x1.view(-1)\n",
        "print(\"Flattened tensor shape:\", z.shape)\n",
        "\n",
        "# Reshape with batch dimension\n",
        "batch = 64\n",
        "x = torch.rand(batch, 2, 5)\n",
        "print(\"Reshaped to (batch, -1):\", x.view(batch, -1).shape)\n",
        "\n",
        "# Permute dimensions\n",
        "z = x.permute(0, 2, 1)\n",
        "print(\"Permuted tensor shape:\", z.shape)\n",
        "\n",
        "# Unsqueeze examples (adding new dimensions)\n",
        "x = torch.arange(10)\n",
        "print(\"Original x:\", x)\n",
        "print(\"x unsqueezed at dim 0:\", x.unsqueeze(0).shape, x.unsqueeze(0))\n",
        "print(\"x unsqueezed at dim 1:\", x.unsqueeze(1).shape, x.unsqueeze(1))\n",
        "\n"
      ],
      "metadata": {
        "id": "AA2iJFOz769T",
        "colab": {
          "base_uri": "https://localhost:8080/"
        },
        "outputId": "598742f2-7d6e-432a-b41a-6eb4b1124908"
      },
      "execution_count": null,
      "outputs": [
        {
          "output_type": "stream",
          "name": "stdout",
          "text": [
            "Reshaped to 3x3 using view:\n",
            " tensor([[0, 1, 2],\n",
            "        [3, 4, 5],\n",
            "        [6, 7, 8]])\n",
            "Reshaped to 3x3 using reshape:\n",
            " tensor([[0, 1, 2],\n",
            "        [3, 4, 5],\n",
            "        [6, 7, 8]])\n",
            "Flattened transposed tensor: tensor([0, 3, 6, 1, 4, 7, 2, 5, 8])\n",
            "Concatenated along dimension 0 (rows): torch.Size([4, 5])\n",
            "Concatenated along dimension 1 (columns): torch.Size([2, 10])\n",
            "Flattened tensor shape: torch.Size([10])\n",
            "Reshaped to (batch, -1): torch.Size([64, 10])\n",
            "Permuted tensor shape: torch.Size([64, 5, 2])\n",
            "Original x: tensor([0, 1, 2, 3, 4, 5, 6, 7, 8, 9])\n",
            "x unsqueezed at dim 0: torch.Size([1, 10]) tensor([[0, 1, 2, 3, 4, 5, 6, 7, 8, 9]])\n",
            "x unsqueezed at dim 1: torch.Size([10, 1]) tensor([[0],\n",
            "        [1],\n",
            "        [2],\n",
            "        [3],\n",
            "        [4],\n",
            "        [5],\n",
            "        [6],\n",
            "        [7],\n",
            "        [8],\n",
            "        [9]])\n"
          ]
        }
      ]
    },
    {
      "cell_type": "code",
      "source": [
        "# flater\n",
        "a.flatten()"
      ],
      "metadata": {
        "id": "oNJPpoKW766z",
        "colab": {
          "base_uri": "https://localhost:8080/"
        },
        "outputId": "3fd8b175-9ef5-4005-c571-3623e4abaf43"
      },
      "execution_count": null,
      "outputs": [
        {
          "output_type": "execute_result",
          "data": {
            "text/plain": [
              "tensor([0.8646, 0.2945, 0.6296, 0.8637, 0.4373, 0.5454])"
            ]
          },
          "metadata": {},
          "execution_count": 43
        }
      ]
    },
    {
      "cell_type": "code",
      "source": [
        "# permute\n",
        "b = torch.rand((2,3,4))\n",
        "print(b.permute(2,0,1))\n",
        "print(b.permute(2,0,1).shape)"
      ],
      "metadata": {
        "id": "GnIafvIG7632",
        "colab": {
          "base_uri": "https://localhost:8080/"
        },
        "outputId": "4e407b9c-6793-4934-9999-840a513f56dc"
      },
      "execution_count": null,
      "outputs": [
        {
          "output_type": "stream",
          "name": "stdout",
          "text": [
            "tensor([[[0.7551, 0.4140, 0.9094],\n",
            "         [0.7420, 0.8681, 0.0143]],\n",
            "\n",
            "        [[0.0997, 0.8477, 0.8745],\n",
            "         [0.7777, 0.6427, 0.5511]],\n",
            "\n",
            "        [[0.4784, 0.4345, 0.7340],\n",
            "         [0.3145, 0.2296, 0.4671]],\n",
            "\n",
            "        [[0.9117, 0.9657, 0.5313],\n",
            "         [0.3740, 0.7941, 0.3918]]])\n",
            "torch.Size([4, 2, 3])\n"
          ]
        }
      ]
    },
    {
      "cell_type": "code",
      "source": [
        "# unsqueeze\n",
        "# Adding a dimension to given position\n",
        "a = torch.rand((225,225,3))\n",
        "print(a.unsqueeze(0).shape)\n",
        "print(a.unsqueeze(1).shape)"
      ],
      "metadata": {
        "id": "pp0a8IoC761R",
        "colab": {
          "base_uri": "https://localhost:8080/"
        },
        "outputId": "dcd21292-0331-4543-9006-b743cc2f99f5"
      },
      "execution_count": null,
      "outputs": [
        {
          "output_type": "stream",
          "name": "stdout",
          "text": [
            "torch.Size([1, 225, 225, 3])\n",
            "torch.Size([225, 1, 225, 3])\n"
          ]
        }
      ]
    },
    {
      "cell_type": "code",
      "source": [
        "# squeeze\n",
        "# remove a dimesion to given position\n",
        "a = torch.rand((20,3))\n",
        "print(a.squeeze(0).shape)\n",
        "print(a.squeeze(1))\n",
        "print(a.squeeze(0).shape)"
      ],
      "metadata": {
        "id": "-xkA_GeQ76yp",
        "colab": {
          "base_uri": "https://localhost:8080/"
        },
        "outputId": "51ab0d05-f45c-4fc8-b2f2-b1555cc43443"
      },
      "execution_count": null,
      "outputs": [
        {
          "output_type": "stream",
          "name": "stdout",
          "text": [
            "torch.Size([20, 3])\n",
            "tensor([[0.2684, 0.5794, 0.2507],\n",
            "        [0.3332, 0.7685, 0.6920],\n",
            "        [0.7884, 0.7881, 0.1183],\n",
            "        [0.5608, 0.5378, 0.3610],\n",
            "        [0.7564, 0.8695, 0.8760],\n",
            "        [0.6970, 0.4151, 0.1832],\n",
            "        [0.5837, 0.9292, 0.6023],\n",
            "        [0.1765, 0.8409, 0.2726],\n",
            "        [0.4108, 0.4721, 0.5486],\n",
            "        [0.4303, 0.5698, 0.0138],\n",
            "        [0.0624, 0.2059, 0.2380],\n",
            "        [0.4575, 0.7061, 0.5698],\n",
            "        [0.6979, 0.6558, 0.0333],\n",
            "        [0.2058, 0.5423, 0.5916],\n",
            "        [0.5919, 0.4311, 0.7392],\n",
            "        [0.9544, 0.9235, 0.6654],\n",
            "        [0.6221, 0.8454, 0.8856],\n",
            "        [0.5157, 0.0368, 0.0961],\n",
            "        [0.4858, 0.7852, 0.4251],\n",
            "        [0.0601, 0.8568, 0.7990]])\n",
            "torch.Size([20, 3])\n"
          ]
        }
      ]
    },
    {
      "cell_type": "code",
      "source": [
        "# Numpy to PyTorch\n",
        "import numpy as np\n",
        "a = np.array([[1,2,3],[4,5,6]])\n",
        "print(a)\n",
        "print(torch.from_numpy(a))\n",
        "print(type(a))\n",
        "print(type(torch.from_numpy(a)))"
      ],
      "metadata": {
        "id": "E5hgsiat76wO",
        "colab": {
          "base_uri": "https://localhost:8080/"
        },
        "outputId": "146b1027-2e4c-4501-b6ec-fdbaee08c4aa"
      },
      "execution_count": null,
      "outputs": [
        {
          "output_type": "stream",
          "name": "stdout",
          "text": [
            "[[1 2 3]\n",
            " [4 5 6]]\n",
            "tensor([[1, 2, 3],\n",
            "        [4, 5, 6]])\n",
            "<class 'numpy.ndarray'>\n",
            "<class 'torch.Tensor'>\n"
          ]
        }
      ]
    },
    {
      "cell_type": "markdown",
      "source": [
        "## Bridge with NumPy\n",
        "\n",
        "Tensors on the CPU and NumPy arrays can share their underlying memory locations, and changing one will change the other."
      ],
      "metadata": {
        "id": "wJkxyoglB068"
      }
    },
    {
      "cell_type": "markdown",
      "source": [
        "### Tensor to NumPy array"
      ],
      "metadata": {
        "id": "nIwAaSexB-Yq"
      }
    },
    {
      "cell_type": "code",
      "source": [
        "# Tensor to NumPy array\n"
      ],
      "metadata": {
        "id": "2jOhRybDAeuP"
      },
      "execution_count": null,
      "outputs": []
    },
    {
      "cell_type": "code",
      "source": [
        "t = torch.ones(5)\n",
        "print(f\"t: {t}\")\n",
        "n = t.numpy()\n",
        "print(f\"n: {n}\")"
      ],
      "metadata": {
        "colab": {
          "base_uri": "https://localhost:8080/"
        },
        "id": "bB-Dcv6GAeqm",
        "outputId": "c294ba82-b1b2-4866-ff41-99c64b2beb78"
      },
      "execution_count": null,
      "outputs": [
        {
          "output_type": "stream",
          "name": "stdout",
          "text": [
            "t: tensor([1., 1., 1., 1., 1.])\n",
            "n: [1. 1. 1. 1. 1.]\n"
          ]
        }
      ]
    },
    {
      "cell_type": "code",
      "source": [
        "t.add_(1)\n",
        "print(f\"t: {t}\")\n",
        "print(f\"n: {n}\")"
      ],
      "metadata": {
        "colab": {
          "base_uri": "https://localhost:8080/"
        },
        "id": "r1u1VrAEAenq",
        "outputId": "d6092508-179d-45ff-e322-cffc426d239e"
      },
      "execution_count": null,
      "outputs": [
        {
          "output_type": "stream",
          "name": "stdout",
          "text": [
            "t: tensor([2., 2., 2., 2., 2.])\n",
            "n: [2. 2. 2. 2. 2.]\n"
          ]
        }
      ]
    },
    {
      "cell_type": "markdown",
      "source": [
        "### NumPy array to Tensor"
      ],
      "metadata": {
        "id": "FJzx9gKWCLlW"
      }
    },
    {
      "cell_type": "code",
      "source": [
        "# NumPy array to Tensor\n",
        "n = np.ones(5)\n",
        "t = torch.from_numpy(n)"
      ],
      "metadata": {
        "id": "QeVSnZ58AelP"
      },
      "execution_count": null,
      "outputs": []
    },
    {
      "cell_type": "code",
      "source": [
        "np.add(n, 1, out=n)\n",
        "print(f\"t: {t}\")\n",
        "print(f\"n: {n}\")"
      ],
      "metadata": {
        "colab": {
          "base_uri": "https://localhost:8080/"
        },
        "id": "sIl2eXvbAeiP",
        "outputId": "22a163f6-b03c-4760-c644-d2abe4788540"
      },
      "execution_count": null,
      "outputs": [
        {
          "output_type": "stream",
          "name": "stdout",
          "text": [
            "t: tensor([2., 2., 2., 2., 2.], dtype=torch.float64)\n",
            "n: [2. 2. 2. 2. 2.]\n"
          ]
        }
      ]
    },
    {
      "cell_type": "code",
      "source": [],
      "metadata": {
        "id": "Vo3BdCCyAefj"
      },
      "execution_count": null,
      "outputs": []
    },
    {
      "cell_type": "code",
      "source": [],
      "metadata": {
        "id": "Q6hJlUmpAec-"
      },
      "execution_count": null,
      "outputs": []
    }
  ]
}